{
 "cells": [
  {
   "cell_type": "markdown",
   "source": [
    "<img src = \"Images\\Day3_22.jpg\" alt = \"Workshop\" align = \"middle\" height = 450, width = 850 >\n",
    "\n",
    "***\n"
   ],
   "metadata": {
    "collapsed": false,
    "pycharm": {
     "name": "#%% md\n"
    }
   }
  },
  {
   "cell_type": "markdown",
   "source": [
    "**About Me**\n",
    "- I am Veena A, working as an Assistant Professor, in the Department of Computer Science and Engineering at Dr. Ambedkar Institute of Technology, Bengaluru - 560056.\n",
    "- Research Interests include Data Science with emphasis on Machine Learning and Deep Learning, and Big Data Analytics\n",
    "- You can contact me at:   **veenaram.cs@drait.edu.in**"
   ],
   "metadata": {
    "collapsed": false,
    "pycharm": {
     "name": "#%% md\n"
    }
   }
  },
  {
   "cell_type": "markdown",
   "source": [
    "## Objectives of this Workshop\n",
    "\n",
    "The objectives of the workshop is to provide hands-on experience in python programming and explore the features of the Python programming language.\n",
    "\n",
    "***"
   ],
   "metadata": {
    "collapsed": false,
    "pycharm": {
     "name": "#%% md\n"
    }
   }
  },
  {
   "cell_type": "markdown",
   "source": [
    "## To the Audience\n",
    "\n",
    "* Audience are encouraged to make a note of all the concepts while discussing\n",
    "* Based on your understanding of the concepts, you need to write the code to solve the questionnaires during Hands-on session\n",
    "* Go to the following URL if you want to execute the code in parallel while discussing\n",
    "  Replace This https://tinyurl.com/DTE-Day3\n",
    "* Use Audience_Test_the_Code.ipynb file to execute code samples"
   ],
   "metadata": {
    "collapsed": false,
    "pycharm": {
     "name": "#%% md\n"
    }
   }
  },
  {
   "cell_type": "markdown",
   "source": [
    "# Creating the Dictionary\n",
    "## The syntax for dictionary is:\n",
    "` dict_variable = {key:value, key:value} `"
   ],
   "metadata": {
    "collapsed": false
   }
  },
  {
   "cell_type": "markdown",
   "source": [],
   "metadata": {
    "collapsed": false
   }
  },
  {
   "cell_type": "code",
   "execution_count": 1,
   "outputs": [
    {
     "data": {
      "text/plain": "{'g': 'goldfish',\n 's': 'shark',\n 'n': 'needlefish',\n 'b': 'barramundi',\n 'm': 'mackerel'}"
     },
     "execution_count": 1,
     "metadata": {},
     "output_type": "execute_result"
    }
   ],
   "source": [
    "#Example for creating the dictionary\n",
    "fish = {\"g\": \"goldfish\", \"s\":\"shark\", \"n\": \"needlefish\", \"b\":\"barramundi\",\"m\":\"mackerel\"}\n",
    "fish"
   ],
   "metadata": {
    "collapsed": false,
    "pycharm": {
     "name": "#%%\n"
    }
   }
  },
  {
   "cell_type": "markdown",
   "source": [
    "![](Images/Day3_2.png)"
   ],
   "metadata": {
    "collapsed": false
   }
  },
  {
   "cell_type": "code",
   "execution_count": 8,
   "outputs": [
    {
     "name": "stdout",
     "output_type": "stream",
     "text": [
      "<class 'dict'>\n",
      "{'portable': 'laptop', 9: 11, 7: 'julius'}\n"
     ]
    }
   ],
   "source": [
    "#Keys and Values can have a mixed data type values\n",
    "mixed_dict = {\"portable\":\"laptop\", 9:11, 7:\"julius\"}\n",
    "print(type(mixed_dict))\n",
    "print(mixed_dict)"
   ],
   "metadata": {
    "collapsed": false,
    "pycharm": {
     "name": "#%%\n"
    }
   }
  },
  {
   "cell_type": "code",
   "execution_count": 9,
   "outputs": [
    {
     "data": {
      "text/plain": "True"
     },
     "execution_count": 9,
     "metadata": {},
     "output_type": "execute_result"
    }
   ],
   "source": [
    "# Checks if the two dictionaries are equal or not\n",
    "pizza = {\"pepperoni\":3, \"calzone\":5, \"margherita\":4}\n",
    "fav_pizza = {\"margherita\":4, \"pepperoni\":3, \"calzone\":5}\n",
    "pizza == fav_pizza"
   ],
   "metadata": {
    "collapsed": false,
    "pycharm": {
     "name": "#%%\n"
    }
   }
  },
  {
   "cell_type": "markdown",
   "source": [
    "![](Images/Day3_3.png)"
   ],
   "metadata": {
    "collapsed": false,
    "pycharm": {
     "name": "#%% md\n"
    }
   }
  },
  {
   "cell_type": "code",
   "execution_count": 29,
   "outputs": [
    {
     "data": {
      "text/plain": "{'giotto': 1305,\n 'donatello': 1440,\n 'michelangelo': 1511,\n 'botticelli': 1480,\n 'clouet': 1520}"
     },
     "execution_count": 29,
     "metadata": {},
     "output_type": "execute_result"
    }
   ],
   "source": [
    "#Accessing and Modifying key:value Pairs in Dictionaries\n",
    "renaissance = {\"giotto\":1305, \"donatello\":1440, \"michelangelo\":1511,\"botticelli\":1480, \"clouet\":1520}\n",
    "renaissance"
   ],
   "metadata": {
    "collapsed": false,
    "pycharm": {
     "name": "#%%\n"
    }
   }
  },
  {
   "cell_type": "code",
   "execution_count": 13,
   "outputs": [
    {
     "data": {
      "text/plain": "{'giotto': 1310,\n 'donatello': 1440,\n 'michelangelo': 1511,\n 'botticelli': 1480,\n 'clouet': 1520}"
     },
     "execution_count": 13,
     "metadata": {},
     "output_type": "execute_result"
    }
   ],
   "source": [
    "renaissance[\"giotto\"] = 1310\n",
    "renaissance"
   ],
   "metadata": {
    "collapsed": false,
    "pycharm": {
     "name": "#%%\n"
    }
   }
  },
  {
   "cell_type": "code",
   "execution_count": 15,
   "outputs": [
    {
     "data": {
      "text/plain": "{'giotto': 1310,\n 'donatello': 1440,\n 'michelangelo': 1511,\n 'botticelli': 1480,\n 'clouet': 1520,\n 'leonardo': 1503}"
     },
     "execution_count": 15,
     "metadata": {},
     "output_type": "execute_result"
    }
   ],
   "source": [
    "renaissance[\"leonardo\"] = 1503\n",
    "renaissance\n"
   ],
   "metadata": {
    "collapsed": false,
    "pycharm": {
     "name": "#%%\n"
    }
   }
  },
  {
   "cell_type": "code",
   "execution_count": 11,
   "outputs": [
    {
     "ename": "NameError",
     "evalue": "name 'renaissance' is not defined",
     "output_type": "error",
     "traceback": [
      "\u001B[1;31m---------------------------------------------------------------------------\u001B[0m",
      "\u001B[1;31mNameError\u001B[0m                                 Traceback (most recent call last)",
      "\u001B[1;32m<ipython-input-11-39a81c3b9d0e>\u001B[0m in \u001B[0;36m<module>\u001B[1;34m\u001B[0m\n\u001B[0;32m      1\u001B[0m \u001B[1;31m#Name error trying to access the key element which is not present\u001B[0m\u001B[1;33m\u001B[0m\u001B[1;33m\u001B[0m\u001B[1;33m\u001B[0m\u001B[0m\n\u001B[1;32m----> 2\u001B[1;33m \u001B[0mrenaissance\u001B[0m\u001B[1;33m[\u001B[0m\u001B[1;34m\"piero\"\u001B[0m\u001B[1;33m]\u001B[0m\u001B[1;33m\u001B[0m\u001B[1;33m\u001B[0m\u001B[0m\n\u001B[0m",
      "\u001B[1;31mNameError\u001B[0m: name 'renaissance' is not defined"
     ]
    }
   ],
   "source": [
    "#Name error trying to access the key element which is not present\n",
    "renaissance[\"piero\"]"
   ],
   "metadata": {
    "collapsed": false,
    "pycharm": {
     "name": "#%%\n"
    }
   }
  },
  {
   "cell_type": "code",
   "execution_count": 12,
   "outputs": [
    {
     "name": "stdout",
     "output_type": "stream",
     "text": [
      "False\n",
      "True\n"
     ]
    }
   ],
   "source": [
    "#using in keyword\n",
    "clothes = {\"rainy\":\"raincoats\", \"summer\":\"tees\", \"winter\":\"sweaters\"}\n",
    "print(\"spring\" in clothes)\n",
    "print(\"spring\" not in clothes)"
   ],
   "metadata": {
    "collapsed": false,
    "pycharm": {
     "name": "#%%\n"
    }
   }
  },
  {
   "cell_type": "code",
   "execution_count": 14,
   "outputs": [
    {
     "data": {
      "text/plain": "{'one': 1, 'two': 2, 'three': 3}"
     },
     "execution_count": 14,
     "metadata": {},
     "output_type": "execute_result"
    }
   ],
   "source": [
    "#Using Dict Function to create  Dictionaries\n",
    "numbers = dict(one=1, two=2, three=3)\n",
    "numbers"
   ],
   "metadata": {
    "collapsed": false,
    "pycharm": {
     "name": "#%%\n"
    }
   }
  },
  {
   "cell_type": "code",
   "execution_count": 20,
   "outputs": [
    {
     "data": {
      "text/plain": "{'sape': 4139, 'guido': 4127, 'jack': 4098}"
     },
     "execution_count": 20,
     "metadata": {},
     "output_type": "execute_result"
    }
   ],
   "source": [
    "#using the iterables\n",
    "dict([('sape', 4139), ('guido', 4127), ('jack', 4098)])"
   ],
   "metadata": {
    "collapsed": false,
    "pycharm": {
     "name": "#%%\n"
    }
   }
  },
  {
   "cell_type": "markdown",
   "source": [
    "![](Images/Day3_4.png)"
   ],
   "metadata": {
    "collapsed": false,
    "pycharm": {
     "name": "#%% md\n"
    }
   }
  },
  {
   "cell_type": "code",
   "execution_count": 23,
   "outputs": [
    {
     "data": {
      "text/plain": "5"
     },
     "execution_count": 23,
     "metadata": {},
     "output_type": "execute_result"
    }
   ],
   "source": [
    "#Built-in Functions used in Dictionaries\n",
    "presidents = {\"washington\":1732, \"jefferson\":1751, \"lincoln\":1809,\"roosevelt\":1858, \"eisenhower\":1890}\n",
    "len(presidents)"
   ],
   "metadata": {
    "collapsed": false,
    "pycharm": {
     "name": "#%%\n"
    }
   }
  },
  {
   "cell_type": "code",
   "execution_count": 18,
   "outputs": [
    {
     "data": {
      "text/plain": "False"
     },
     "execution_count": 18,
     "metadata": {},
     "output_type": "execute_result"
    }
   ],
   "source": [
    "#All function in dict\n",
    "all_dict_func = {0:True, 2:False}\n",
    "all(all_dict_func)"
   ],
   "metadata": {
    "collapsed": false,
    "pycharm": {
     "name": "#%%\n"
    }
   }
  },
  {
   "cell_type": "code",
   "execution_count": 30,
   "outputs": [
    {
     "data": {
      "text/plain": "True"
     },
     "execution_count": 30,
     "metadata": {},
     "output_type": "execute_result"
    }
   ],
   "source": [
    "#all method in Dictionary\n",
    "all_dict_func = {1:True, 2:False}\n",
    "all(all_dict_func)"
   ],
   "metadata": {
    "collapsed": false,
    "pycharm": {
     "name": "#%%\n"
    }
   }
  },
  {
   "cell_type": "code",
   "execution_count": 25,
   "outputs": [
    {
     "data": {
      "text/plain": "True"
     },
     "execution_count": 25,
     "metadata": {},
     "output_type": "execute_result"
    }
   ],
   "source": [
    "#any method in Dictionary\n",
    "any_dict_func = {0:True, 2:False}\n",
    "any(any_dict_func)"
   ],
   "metadata": {
    "collapsed": false,
    "pycharm": {
     "name": "#%%\n"
    }
   }
  },
  {
   "cell_type": "code",
   "execution_count": 26,
   "outputs": [
    {
     "ename": "NameError",
     "evalue": "name 'presidents' is not defined",
     "output_type": "error",
     "traceback": [
      "\u001B[1;31m---------------------------------------------------------------------------\u001B[0m",
      "\u001B[1;31mNameError\u001B[0m                                 Traceback (most recent call last)",
      "\u001B[1;32m<ipython-input-26-cc241147fdcb>\u001B[0m in \u001B[0;36m<module>\u001B[1;34m\u001B[0m\n\u001B[0;32m      1\u001B[0m \u001B[1;31m#sorted method in dictionaries\u001B[0m\u001B[1;33m\u001B[0m\u001B[1;33m\u001B[0m\u001B[1;33m\u001B[0m\u001B[0m\n\u001B[1;32m----> 2\u001B[1;33m \u001B[0msorted\u001B[0m\u001B[1;33m(\u001B[0m\u001B[0mpresidents\u001B[0m\u001B[1;33m)\u001B[0m\u001B[1;33m\u001B[0m\u001B[1;33m\u001B[0m\u001B[0m\n\u001B[0m",
      "\u001B[1;31mNameError\u001B[0m: name 'presidents' is not defined"
     ]
    }
   ],
   "source": [
    "#sorted method in dictionaries\n",
    "sorted(presidents)"
   ],
   "metadata": {
    "collapsed": false,
    "pycharm": {
     "name": "#%%\n"
    }
   }
  },
  {
   "cell_type": "code",
   "execution_count": 34,
   "outputs": [
    {
     "data": {
      "text/plain": "['washington', 'roosevelt', 'lincoln', 'jefferson', 'eisenhower']"
     },
     "execution_count": 34,
     "metadata": {},
     "output_type": "execute_result"
    }
   ],
   "source": [
    "#sorted method in dictionaries with true\n",
    "sorted(presidents, reverse = True)"
   ],
   "metadata": {
    "collapsed": false,
    "pycharm": {
     "name": "#%%\n"
    }
   }
  },
  {
   "cell_type": "code",
   "execution_count": 35,
   "outputs": [
    {
     "data": {
      "text/plain": "[1732, 1751, 1809, 1858, 1890]"
     },
     "execution_count": 35,
     "metadata": {},
     "output_type": "execute_result"
    }
   ],
   "source": [
    "sorted(presidents.values())"
   ],
   "metadata": {
    "collapsed": false,
    "pycharm": {
     "name": "#%%\n"
    }
   }
  },
  {
   "cell_type": "code",
   "execution_count": 36,
   "outputs": [
    {
     "data": {
      "text/plain": "[('eisenhower', 1890),\n ('jefferson', 1751),\n ('lincoln', 1809),\n ('roosevelt', 1858),\n ('washington', 1732)]"
     },
     "execution_count": 36,
     "metadata": {},
     "output_type": "execute_result"
    }
   ],
   "source": [
    "sorted(presidents.items())"
   ],
   "metadata": {
    "collapsed": false,
    "pycharm": {
     "name": "#%%\n"
    }
   }
  },
  {
   "cell_type": "markdown",
   "source": [
    "![](Images/Day3_5.png)"
   ],
   "metadata": {
    "collapsed": false,
    "pycharm": {
     "name": "#%% md\n"
    }
   }
  },
  {
   "cell_type": "code",
   "execution_count": 31,
   "outputs": [
    {
     "data": {
      "text/plain": "{'avatar': None,\n 'titanic': None,\n 'starwars': None,\n 'harrypotter': None,\n 'avengers': None}"
     },
     "execution_count": 31,
     "metadata": {},
     "output_type": "execute_result"
    }
   ],
   "source": [
    "#Dictionary Methods\n",
    "box_office_billion = {\"avatar\":2009, \"titanic\":1997, \"starwars\":2015, \"harrypotter\":2011, \"avengers\":2012}\n",
    "box_office_billion_fromkeys = box_office_billion.fromkeys(box_office_billion)\n",
    "box_office_billion_fromkeys"
   ],
   "metadata": {
    "collapsed": false,
    "pycharm": {
     "name": "#%%\n"
    }
   }
  },
  {
   "cell_type": "code",
   "execution_count": 32,
   "outputs": [
    {
     "name": "stdout",
     "output_type": "stream",
     "text": [
      "None\n"
     ]
    }
   ],
   "source": [
    "#Name Error: frozen key value pair is not present\n",
    "print(box_office_billion.get(\"frozen\"))"
   ],
   "metadata": {
    "collapsed": false,
    "pycharm": {
     "name": "#%%\n"
    }
   }
  },
  {
   "cell_type": "code",
   "execution_count": 33,
   "outputs": [
    {
     "data": {
      "text/plain": "2013"
     },
     "execution_count": 33,
     "metadata": {},
     "output_type": "execute_result"
    }
   ],
   "source": [
    "box_office_billion.get(\"frozen\",2013)"
   ],
   "metadata": {
    "collapsed": false,
    "pycharm": {
     "name": "#%%\n"
    }
   }
  },
  {
   "cell_type": "code",
   "execution_count": 34,
   "outputs": [
    {
     "data": {
      "text/plain": "dict_keys(['avatar', 'titanic', 'starwars', 'harrypotter', 'avengers'])"
     },
     "execution_count": 34,
     "metadata": {},
     "output_type": "execute_result"
    }
   ],
   "source": [
    "box_office_billion.keys()"
   ],
   "metadata": {
    "collapsed": false,
    "pycharm": {
     "name": "#%%\n"
    }
   }
  },
  {
   "cell_type": "code",
   "execution_count": 35,
   "outputs": [
    {
     "data": {
      "text/plain": "dict_values([2009, 1997, 2015, 2011, 2012])"
     },
     "execution_count": 35,
     "metadata": {},
     "output_type": "execute_result"
    }
   ],
   "source": [
    "box_office_billion.values()"
   ],
   "metadata": {
    "collapsed": false,
    "pycharm": {
     "name": "#%%\n"
    }
   }
  },
  {
   "cell_type": "code",
   "execution_count": 36,
   "outputs": [
    {
     "data": {
      "text/plain": "dict_items([('avatar', 2009), ('titanic', 1997), ('starwars', 2015), ('harrypotter', 2011), ('avengers', 2012)])"
     },
     "execution_count": 36,
     "metadata": {},
     "output_type": "execute_result"
    }
   ],
   "source": [
    "box_office_billion.items()"
   ],
   "metadata": {
    "collapsed": false,
    "pycharm": {
     "name": "#%%\n"
    }
   }
  },
  {
   "cell_type": "code",
   "execution_count": 37,
   "outputs": [
    {
     "data": {
      "text/plain": "{'avatar': 2009,\n 'titanic': 1997,\n 'starwars': 2015,\n 'harrypotter': 2011,\n 'avengers': 2012,\n 'frozen': 2013}"
     },
     "execution_count": 37,
     "metadata": {},
     "output_type": "execute_result"
    }
   ],
   "source": [
    "box_office_billion.update({\"frozen\":2013})\n",
    "box_office_billion"
   ],
   "metadata": {
    "collapsed": false,
    "pycharm": {
     "name": "#%%\n"
    }
   }
  },
  {
   "cell_type": "code",
   "execution_count": 38,
   "outputs": [
    {
     "data": {
      "text/plain": "{'avatar': 2009,\n 'titanic': 1997,\n 'starwars': 2015,\n 'harrypotter': 2011,\n 'avengers': 2012,\n 'frozen': 2013,\n 'minions': None}"
     },
     "execution_count": 38,
     "metadata": {},
     "output_type": "execute_result"
    }
   ],
   "source": [
    "box_office_billion.setdefault(\"minions\")\n",
    "box_office_billion"
   ],
   "metadata": {
    "collapsed": false,
    "pycharm": {
     "name": "#%%\n"
    }
   }
  },
  {
   "cell_type": "code",
   "execution_count": 39,
   "outputs": [
    {
     "data": {
      "text/plain": "2009"
     },
     "execution_count": 39,
     "metadata": {},
     "output_type": "execute_result"
    }
   ],
   "source": [
    "box_office_billion.pop(\"avatar\")"
   ],
   "metadata": {
    "collapsed": false,
    "pycharm": {
     "name": "#%%\n"
    }
   }
  },
  {
   "cell_type": "code",
   "execution_count": 40,
   "outputs": [
    {
     "data": {
      "text/plain": "('minions', None)"
     },
     "execution_count": 40,
     "metadata": {},
     "output_type": "execute_result"
    }
   ],
   "source": [
    "box_office_billion.popitem()"
   ],
   "metadata": {
    "collapsed": false,
    "pycharm": {
     "name": "#%%\n"
    }
   }
  },
  {
   "cell_type": "code",
   "execution_count": 41,
   "outputs": [
    {
     "data": {
      "text/plain": "['titanic', 'starwars', 'harrypotter', 'avengers', 'frozen']"
     },
     "execution_count": 41,
     "metadata": {},
     "output_type": "execute_result"
    }
   ],
   "source": [
    "list(box_office_billion.keys())"
   ],
   "metadata": {
    "collapsed": false,
    "pycharm": {
     "name": "#%%\n"
    }
   }
  },
  {
   "cell_type": "code",
   "execution_count": 42,
   "outputs": [
    {
     "data": {
      "text/plain": "[1997, 2015, 2011, 2012, 2013]"
     },
     "execution_count": 42,
     "metadata": {},
     "output_type": "execute_result"
    }
   ],
   "source": [
    "list(box_office_billion.values())"
   ],
   "metadata": {
    "collapsed": false,
    "pycharm": {
     "name": "#%%\n"
    }
   }
  },
  {
   "cell_type": "code",
   "execution_count": 43,
   "outputs": [
    {
     "data": {
      "text/plain": "[('titanic', 1997),\n ('starwars', 2015),\n ('harrypotter', 2011),\n ('avengers', 2012),\n ('frozen', 2013)]"
     },
     "execution_count": 43,
     "metadata": {},
     "output_type": "execute_result"
    }
   ],
   "source": [
    "list(box_office_billion.items())"
   ],
   "metadata": {
    "collapsed": false,
    "pycharm": {
     "name": "#%%\n"
    }
   }
  },
  {
   "cell_type": "code",
   "execution_count": 44,
   "outputs": [
    {
     "data": {
      "text/plain": "{}"
     },
     "execution_count": 44,
     "metadata": {},
     "output_type": "execute_result"
    }
   ],
   "source": [
    "box_office_billion.clear()\n",
    "box_office_billion"
   ],
   "metadata": {
    "collapsed": false,
    "pycharm": {
     "name": "#%%\n"
    }
   }
  },
  {
   "cell_type": "code",
   "execution_count": 45,
   "outputs": [
    {
     "data": {
      "text/plain": "{'Asia': 'India', 'Europe': 'Germany', 'Africa': 'Sudan'}"
     },
     "execution_count": 45,
     "metadata": {},
     "output_type": "execute_result"
    }
   ],
   "source": [
    "#Populating Dictionaries with key:value Pairs\n",
    "countries = {}\n",
    "countries.update({\"Asia\":\"India\"})\n",
    "countries.update({\"Europe\":\"Germany\"})\n",
    "countries.update({\"Africa\":\"Sudan\"})\n",
    "countries"
   ],
   "metadata": {
    "collapsed": false,
    "pycharm": {
     "name": "#%%\n"
    }
   }
  },
  {
   "cell_type": "code",
   "execution_count": 1,
   "metadata": {},
   "outputs": [
    {
     "name": "stdout",
     "output_type": "stream",
     "text": [
      "Method 1: Building Dictionaries\n",
      "Enter key name\n",
      "Enter val veena\n",
      "Enter key age\n",
      "Enter val 77\n",
      "Dictionary is {'name': 'veena', 'age': '77'}\n",
      "Method 2: Building Dictionaries\n",
      "Enter key name\n",
      "Enter val vijay\n",
      "Enter key age \n",
      "Enter val 00\n",
      "Dictionary is {'name': 'vijay', 'age ': '00'}\n",
      "Method 3: Building Dictionaries\n",
      "Enter key name\n",
      "Enter val Shiva\n",
      "Enter key God\n",
      "Enter val face\n",
      "Dictionary is {'name': 'Shiva', 'God': 'face'}\n"
     ]
    }
   ],
   "source": [
    "# Program 7.1: Program to Dynamically Build User Input as a List\n",
    "\n",
    "def main():\n",
    "    print(\"Method 1: Building Dictionaries\")\n",
    "    build_dictionary = {}\n",
    "    for i in range(0, 2):\n",
    "        dic_key = input(\"Enter key \")\n",
    "        dic_val = input(\"Enter val \")\n",
    "        build_dictionary.update({dic_key: dic_val})\n",
    "    print(f\"Dictionary is {build_dictionary}\")\n",
    "\n",
    "    print(\"Method 2: Building Dictionaries\")\n",
    "    build_dictionary = {}\n",
    "    for i in range(0, 2):\n",
    "        dic_key = input(\"Enter key \")\n",
    "        dic_val = input(\"Enter val \")\n",
    "        build_dictionary[dic_key] = dic_val\n",
    "    print(f\"Dictionary is {build_dictionary}\")\n",
    "\n",
    "    print(\"Method 3: Building Dictionaries\")\n",
    "    build_dictionary = {}\n",
    "    i = 0\n",
    "    while i < 2:\n",
    "        dict_key = input(\"Enter key \")\n",
    "        dict_val = input(\"Enter val \")\n",
    "        build_dictionary.update({dict_key: dict_val})\n",
    "        i = i + 1\n",
    "    print(f\"Dictionary is {build_dictionary}\")\n",
    "\n",
    "\n",
    "if __name__ == \"__main__\":\n",
    "    main()"
   ]
  },
  {
   "cell_type": "code",
   "execution_count": 2,
   "metadata": {},
   "outputs": [
    {
     "name": "stdout",
     "output_type": "stream",
     "text": [
      "List of Countries\n",
      "india\n",
      "usa\n",
      "russia\n",
      "japan\n",
      "germany\n",
      "List of Currencies in different Countries\n",
      "rupee\n",
      "dollar\n",
      "ruble\n",
      "yen\n",
      "euro\n",
      "'india' has currency of type 'rupee'\n",
      "'usa' has currency of type 'dollar'\n",
      "'russia' has currency of type 'ruble'\n",
      "'japan' has currency of type 'yen'\n",
      "'germany' has currency of type 'euro'\n"
     ]
    }
   ],
   "source": [
    "# Program 7.2: Program to Illustrate Traversing of key:value Pairs in Dictionaries\n",
    "# Using for Loop\n",
    "\n",
    "currency = {\"india\": \"rupee\", \"usa\": \"dollar\", \"russia\": \"ruble\", \"japan\": \"yen\", \"germany\": \"euro\"}\n",
    "\n",
    "\n",
    "def main():\n",
    "    print(\"List of Countries\")\n",
    "    for key in currency.keys():\n",
    "        print(key)\n",
    "\n",
    "    print(\"List of Currencies in different Countries\")\n",
    "    for value in currency.values():\n",
    "        print(value)\n",
    "\n",
    "    for key, value in currency.items():\n",
    "        print(f\"'{key}' has currency of type '{value}'\")\n",
    "\n",
    "\n",
    "if __name__ == \"__main__\":\n",
    "    main()"
   ]
  },
  {
   "cell_type": "code",
   "execution_count": 3,
   "metadata": {},
   "outputs": [
    {
     "name": "stdout",
     "output_type": "stream",
     "text": [
      "Enter the key to check for its presence value\n",
      "Key 'value' is not present in dictionary\n",
      "Sum of all the values in the dictionary is\n",
      "7662\n"
     ]
    }
   ],
   "source": [
    "# Program 7.3: Write Python Program to Check for the Presence of a Key in the\n",
    "# Dictionary and to Sum All Its Values\n",
    "\n",
    "historical_events = {\"apollo11\": 1969, \"great_depression\": 1929, \"american_revolution\": 1775, \"berlin_wall\": 1989}\n",
    "\n",
    "\n",
    "def check_key_presence():\n",
    "    key = input(\"Enter the key to check for its presence \")\n",
    "    if key in historical_events.keys():\n",
    "        print(f\"Key '{key}' is present in dictionary\")\n",
    "    else:\n",
    "        print(f\"Key '{key}' is not present in dictionary\")\n",
    "\n",
    "\n",
    "def sum_dictionary_values():\n",
    "    print(\"Sum of all the values in the dictionary is\")\n",
    "    print(f\"{sum(historical_events.values())}\")\n",
    "\n",
    "\n",
    "def main():\n",
    "    check_key_presence()\n",
    "    sum_dictionary_values()\n",
    "\n",
    "\n",
    "if __name__ == \"__main__\":\n",
    "    main()"
   ]
  },
  {
   "cell_type": "code",
   "execution_count": 4,
   "metadata": {},
   "outputs": [
    {
     "name": "stdout",
     "output_type": "stream",
     "text": [
      "Number of times a novel appears in list is\n",
      "{'gone_girl': 2, 'davinci_code': 2, 'games_of_thrones': 1}\n"
     ]
    }
   ],
   "source": [
    "# Program 7.4: Write Python Program to Count the Number of Times an Item\n",
    "# Appears in the List\n",
    "\n",
    "novels = [\"gone_girl\", \"davinci_code\", \"games_of_thrones\", \"gone_girl\", \"davinci_code\"]\n",
    "\n",
    "\n",
    "def main():\n",
    "    count_items = dict()\n",
    "    for book_name in novels:\n",
    "        count_items[book_name] = count_items.get(book_name, 0) + 1\n",
    "\n",
    "    print(\"Number of times a novel appears in list is\")\n",
    "    print(count_items)\n",
    "\n",
    "\n",
    "if __name__ == \"__main__\":\n",
    "    main()"
   ]
  },
  {
   "cell_type": "code",
   "execution_count": 5,
   "metadata": {},
   "outputs": [
    {
     "name": "stdout",
     "output_type": "stream",
     "text": [
      "Enter a sentence This is Veena\n",
      "The number of times each word appears in a sentence is\n",
      "{'This': 1, 'is': 1, 'Veena': 1}\n"
     ]
    }
   ],
   "source": [
    "# Program 7.5: Write Python Program to Count the Number of Times Each Word\n",
    "# Appears in a Sentence\n",
    "\n",
    "\n",
    "def main():\n",
    "    count_words = dict()\n",
    "    sentence = input(\"Enter a sentence \")\n",
    "    words = sentence.split()\n",
    "\n",
    "    for each_word in words:\n",
    "        count_words[each_word] = count_words.get(each_word, 0) + 1\n",
    "    print(\"The number of times each word appears in a sentence is\")\n",
    "    print(count_words)\n",
    "\n",
    "\n",
    "if __name__ == \"__main__\":\n",
    "    main()"
   ]
  },
  {
   "cell_type": "code",
   "execution_count": 6,
   "metadata": {},
   "outputs": [
    {
     "name": "stdout",
     "output_type": "stream",
     "text": [
      "Enter a string Veena\n",
      "V 1\n",
      "a 1\n",
      "e 2\n",
      "n 1\n"
     ]
    }
   ],
   "source": [
    "# Program 7.6: Write Python Program to Count the Number of Characters in a String\n",
    "# Using Dictionaries. Display the Keys and Their Values in Alphabetical Order\n",
    "\n",
    "\n",
    "def construct_character_dict(word):\n",
    "    character_count_dict = dict()\n",
    "    for each_character in word:\n",
    "        character_count_dict[each_character] = character_count_dict.get(each_character, 0) + 1\n",
    "\n",
    "    sorted_list_keys = sorted(character_count_dict.keys())\n",
    "    for each_key in sorted_list_keys:\n",
    "        print(each_key, character_count_dict.get(each_key))\n",
    "\n",
    "\n",
    "def main():\n",
    "    word = input(\"Enter a string \")\n",
    "    construct_character_dict(word)\n",
    "\n",
    "\n",
    "if __name__ == \"__main__\":\n",
    "    main()"
   ]
  },
  {
   "cell_type": "code",
   "execution_count": 8,
   "metadata": {},
   "outputs": [
    {
     "name": "stdout",
     "output_type": "stream",
     "text": [
      "Enter a number 4\n",
      "The generated dictionary of the form (i, i*i) is\n",
      "{1: 1, 2: 4, 3: 9, 4: 16}\n"
     ]
    }
   ],
   "source": [
    "# Program 7.7: Write Python Program to Generate a Dictionary That Contains (i: i*i)\n",
    "# Such that i Is a Number Ranging from 1 to n.\n",
    "\n",
    "\n",
    "def main():\n",
    "    number = int(input(\"Enter a number \"))\n",
    "    create_number_dict = dict()\n",
    "    for i in range(1, number+1):\n",
    "        create_number_dict[i] = i * i\n",
    "    print(\"The generated dictionary of the form (i, i*i) is\")\n",
    "    print(create_number_dict)\n",
    "\n",
    "\n",
    "if __name__ == \"__main__\":\n",
    "    main()"
   ]
  },
  {
   "cell_type": "code",
   "execution_count": 9,
   "metadata": {},
   "outputs": [
    {
     "name": "stdout",
     "output_type": "stream",
     "text": [
      "Enter a sentence Veena\n",
      "The number of digits, lowercase and uppercase letters are\n",
      "{'digits': 0, 'lowercase': 4, 'uppercase': 1}\n"
     ]
    }
   ],
   "source": [
    "# Program 7.8: Write a Program That Accepts a Sentence and Calculate\n",
    "# the Number of Digits, Uppercase and Lowercase Letters\n",
    "\n",
    "\n",
    "def main():\n",
    "    sentence = input(\"Enter a sentence \")\n",
    "    construct_dictionary = {\"digits\": 0, \"lowercase\": 0, \"uppercase\": 0}\n",
    "    for each_character in sentence:\n",
    "        if each_character.isdigit():\n",
    "            construct_dictionary[\"digits\"] += 1\n",
    "        elif each_character.isupper():\n",
    "            construct_dictionary[\"uppercase\"] += 1\n",
    "        elif each_character.islower():\n",
    "            construct_dictionary[\"lowercase\"] += 1\n",
    "    print(\"The number of digits, lowercase and uppercase letters are\")\n",
    "    print(construct_dictionary)\n",
    "\n",
    "\n",
    "if __name__ == \"__main__\":\n",
    "    main()"
   ]
  },
  {
   "cell_type": "code",
   "execution_count": 71,
   "outputs": [
    {
     "name": "stdout",
     "output_type": "stream",
     "text": [
      "Student you are searching is present in the class\n",
      "Student's Registration Number is 1DA18PCS01\n",
      "Student's Total Marks is 2\n"
     ]
    }
   ],
   "source": [
    "#Program 7.9: The user has to specify a value for n number of students. The Program Should Output\n",
    "#the Registration Number and Marks of a Specified Student Given His Name\n",
    "\n",
    "def student_details(number_of_students):\n",
    "    student_name = {}\n",
    "    for i in range(0, number_of_students):\n",
    "        name = input(\"Enter the Name of the Student \")\n",
    "        registration_number = input(\"Enter student's Registration Number \")\n",
    "        total_marks = input(\"Enter student's Total Marks \")\n",
    "        student_name[name] = [registration_number, total_marks]\n",
    "        student_search = input('Enter name of the student you want to search ')\n",
    "        if student_search not in student_name.keys():\n",
    "            print('Student you are searching is not present in the class')\n",
    "        else:\n",
    "            print(\"Student you are searching is present in the class\")\n",
    "            print(f\"Student's Registration Number is {student_name[student_search][0]}\")\n",
    "            print(f\"Student's Total Marks is {student_name[student_search][1]}\")\n",
    "\n",
    "def main():\n",
    "    number_of_students = int(input(\"Enter the number of students \"))\n",
    "    student_details(number_of_students)\n",
    "\n",
    "if __name__ == \"__main__\":\n",
    "    main()"
   ],
   "metadata": {
    "collapsed": false,
    "pycharm": {
     "name": "#%%\n"
    }
   }
  },
  {
   "cell_type": "code",
   "execution_count": 10,
   "metadata": {},
   "outputs": [
    {
     "name": "stdout",
     "output_type": "stream",
     "text": [
      "Student Name jasmine\n",
      "Registration Number 1AIT18CS05\n",
      "Average of all the subjects is 90.0\n"
     ]
    }
   ],
   "source": [
    "# Program 7.10: Program to Demonstrate Nested Dictionaries\n",
    "\n",
    "student_details = {\"name\": \"jasmine\", \"registration_number\": \"1AIT18CS05\", \"sub_marks\": {\"python\": 95, \"java\": 90, \".net\": 85}}\n",
    "\n",
    "\n",
    "def nested_dictionary():\n",
    "    print(f\"Student Name {student_details['name']}\")\n",
    "    print(f\"Registration Number {student_details['registration_number']}\")\n",
    "    average = sum(student_details[\"sub_marks\"].values()) / len(student_details[\"sub_marks\"])\n",
    "    print(f\"Average of all the subjects is {average}\")\n",
    "\n",
    "\n",
    "def main():\n",
    "    nested_dictionary()\n",
    "\n",
    "\n",
    "if __name__ == \"__main__\":\n",
    "    main()"
   ]
  },
  {
   "cell_type": "code",
   "execution_count": 73,
   "outputs": [
    {
     "data": {
      "text/plain": "{'r': 'raccoon', 'c': 'cougar', 'm': 'moose'}"
     },
     "execution_count": 73,
     "metadata": {},
     "output_type": "execute_result"
    }
   ],
   "source": [
    "animals = {\"r\":\"raccoon\", \"c\":\"cougar\", \"m\":\"moose\"}\n",
    "animals"
   ],
   "metadata": {
    "collapsed": false,
    "pycharm": {
     "name": "#%%\n"
    }
   }
  },
  {
   "cell_type": "code",
   "execution_count": 74,
   "outputs": [
    {
     "data": {
      "text/plain": "{'r': 'raccoon', 'm': 'moose'}"
     },
     "execution_count": 74,
     "metadata": {},
     "output_type": "execute_result"
    }
   ],
   "source": [
    "del animals[\"c\"]\n",
    "animals"
   ],
   "metadata": {
    "collapsed": false,
    "pycharm": {
     "name": "#%%\n"
    }
   }
  },
  {
   "cell_type": "markdown",
   "source": [
    "**Case Study**\n",
    "**Program to find the winner of the election**"
   ],
   "metadata": {
    "collapsed": false,
    "pycharm": {
     "name": "#%% md\n"
    }
   }
  },
  {
   "cell_type": "code",
   "execution_count": 47,
   "outputs": [
    {
     "name": "stdout",
     "output_type": "stream",
     "text": [
      "<class 'collections.Counter'>\n",
      "The candidate who has the maximum number of votes is\n",
      "john\n"
     ]
    }
   ],
   "source": [
    "# Function to find winner of an election where votes\n",
    "# are represented as candidate names\n",
    "from collections import Counter\n",
    "\n",
    "def winner(input):\n",
    "\n",
    "    # convert list of candidates into dictionary\n",
    "    # output will be likes candidates = {'A':2, 'B':4}\n",
    "    votes = Counter(input)\n",
    "\n",
    "    # create another dictionary and it's key will\n",
    "    # be count of votes values will be name of\n",
    "    # candidates\n",
    "    dict = {}\n",
    "\n",
    "    for value in votes.values():\n",
    "\n",
    "        # initialize empty list to each key to\n",
    "        # insert candidate names having same\n",
    "        # number of votes\n",
    "        dict[value] = []\n",
    "\n",
    "    for (key,value) in votes.items():\n",
    "        dict[value].append(key)\n",
    "\n",
    "    # sort keys in descending order to get maximum\n",
    "    # value of votes\n",
    "    maxVote = sorted(dict.keys(),reverse=True)[0]\n",
    "\n",
    "    # check if more than 1 candidates have same\n",
    "    # number of votes. If yes, then sort the list\n",
    "    # first and print first element\n",
    "    print(\"The candidate who has the maximum number of votes is\")\n",
    "    if len(dict[maxVote])>1:\n",
    "        print (sorted(dict[maxVote])[0])\n",
    "    else:\n",
    "        print (dict[maxVote][0])\n",
    "\n",
    "# Driver program\n",
    "if __name__ == \"__main__\":\n",
    "    input =['john','johnny','jackie','johnny',\n",
    "            'john','jackie','jamie','jamie',\n",
    "            'john','johnny','jamie','johnny',\n",
    "            'john']\n",
    "    winner(input)"
   ],
   "metadata": {
    "collapsed": false,
    "pycharm": {
     "name": "#%%\n"
    }
   }
  },
  {
   "cell_type": "code",
   "execution_count": null,
   "outputs": [],
   "source": [],
   "metadata": {
    "collapsed": false,
    "pycharm": {
     "name": "#%%\n"
    }
   }
  }
 ],
 "metadata": {
  "kernelspec": {
   "display_name": "Python 3",
   "language": "python",
   "name": "python3"
  },
  "language_info": {
   "codemirror_mode": {
    "name": "ipython",
    "version": 3
   },
   "file_extension": ".py",
   "mimetype": "text/x-python",
   "name": "python",
   "nbconvert_exporter": "python",
   "pygments_lexer": "ipython3",
   "version": "3.8.5"
  }
 },
 "nbformat": 4,
 "nbformat_minor": 4
}