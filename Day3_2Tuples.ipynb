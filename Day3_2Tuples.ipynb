{
 "cells": [
  {
   "cell_type": "markdown",
   "source": [
    "# Creating the Tuples\n",
    "## The syntax for creating the tuple is\n",
    "\n",
    "   ` tuple_name = (item_1, item_2, item_3, ............. , item_n) `"
   ],
   "metadata": {
    "collapsed": false,
    "pycharm": {
     "name": "#%% md\n"
    }
   }
  },
  {
   "cell_type": "markdown",
   "source": [
    "![](Images/Day3_6.png)"
   ],
   "metadata": {
    "collapsed": false
   }
  },
  {
   "cell_type": "code",
   "execution_count": 1,
   "outputs": [
    {
     "data": {
      "text/plain": "('cern', 'timbernerslee', 'www', 1980)"
     },
     "execution_count": 1,
     "metadata": {},
     "output_type": "execute_result"
    }
   ],
   "source": [
    "#Creating Tuples\n",
    "internet = (\"cern\", \"timbernerslee\", \"www\", 1980)\n",
    "internet"
   ],
   "metadata": {
    "collapsed": false,
    "pycharm": {
     "name": "#%%\n"
    }
   }
  },
  {
   "cell_type": "code",
   "execution_count": 2,
   "outputs": [
    {
     "data": {
      "text/plain": "tuple"
     },
     "execution_count": 2,
     "metadata": {},
     "output_type": "execute_result"
    }
   ],
   "source": [
    "type(internet)"
   ],
   "metadata": {
    "collapsed": false,
    "pycharm": {
     "name": "#%%\n"
    }
   }
  },
  {
   "cell_type": "code",
   "execution_count": 3,
   "outputs": [
    {
     "data": {
      "text/plain": "('ferrari', 'redbull', 'mercedes', 'williams', 'renault')"
     },
     "execution_count": 3,
     "metadata": {},
     "output_type": "execute_result"
    }
   ],
   "source": [
    "f1 = \"ferrari\", \"redbull\", \"mercedes\", \"williams\", \"renault\"\n",
    "f1"
   ],
   "metadata": {
    "collapsed": false,
    "pycharm": {
     "name": "#%%\n"
    }
   }
  },
  {
   "cell_type": "code",
   "execution_count": 4,
   "outputs": [
    {
     "data": {
      "text/plain": "tuple"
     },
     "execution_count": 4,
     "metadata": {},
     "output_type": "execute_result"
    }
   ],
   "source": [
    "type(f1)"
   ],
   "metadata": {
    "collapsed": false,
    "pycharm": {
     "name": "#%%\n"
    }
   }
  },
  {
   "cell_type": "code",
   "execution_count": 5,
   "outputs": [
    {
     "data": {
      "text/plain": "()"
     },
     "execution_count": 5,
     "metadata": {},
     "output_type": "execute_result"
    }
   ],
   "source": [
    "# creating empty tuple\n",
    "empty_tuple = ()\n",
    "empty_tuple"
   ],
   "metadata": {
    "collapsed": false,
    "pycharm": {
     "name": "#%%\n"
    }
   }
  },
  {
   "cell_type": "code",
   "execution_count": 6,
   "outputs": [
    {
     "data": {
      "text/plain": "(1988, 2005, 2016, ('f15', 'f22a', 'f35a'))"
     },
     "execution_count": 6,
     "metadata": {},
     "output_type": "execute_result"
    }
   ],
   "source": [
    "#Can store any item of type string, number, object,another_variable, tuple\n",
    "air_force = (\"f15\", \"f22a\", \"f35a\")\n",
    "fighter_jets = (1988, 2005, 2016, air_force)\n",
    "fighter_jets"
   ],
   "metadata": {
    "collapsed": false,
    "pycharm": {
     "name": "#%%\n"
    }
   }
  },
  {
   "cell_type": "code",
   "execution_count": 7,
   "outputs": [
    {
     "data": {
      "text/plain": "('hello',)"
     },
     "execution_count": 7,
     "metadata": {},
     "output_type": "execute_result"
    }
   ],
   "source": [
    "# A tuple with one item is constructed by having a value followed by a comma\n",
    "singleton = 'hello',\n",
    "singleton"
   ],
   "metadata": {
    "collapsed": false,
    "pycharm": {
     "name": "#%%\n"
    }
   }
  },
  {
   "cell_type": "code",
   "execution_count": 8,
   "outputs": [
    {
     "data": {
      "text/plain": "(2, 0, 1, 4, 2, 0, 1, 9)"
     },
     "execution_count": 8,
     "metadata": {},
     "output_type": "execute_result"
    }
   ],
   "source": [
    "#Basic Tuple Operations\n",
    "tuple_1 = (2, 0, 1, 4)\n",
    "tuple_2 = (2, 0, 1, 9)\n",
    "tuple_1 + tuple_2"
   ],
   "metadata": {
    "collapsed": false,
    "pycharm": {
     "name": "#%%\n"
    }
   }
  },
  {
   "cell_type": "code",
   "execution_count": 9,
   "outputs": [
    {
     "data": {
      "text/plain": "(2, 0, 1, 4, 2, 0, 1, 4, 2, 0, 1, 4)"
     },
     "execution_count": 9,
     "metadata": {},
     "output_type": "execute_result"
    }
   ],
   "source": [
    "tuple_1 * 3"
   ],
   "metadata": {
    "collapsed": false,
    "pycharm": {
     "name": "#%%\n"
    }
   }
  },
  {
   "cell_type": "code",
   "execution_count": 11,
   "outputs": [
    {
     "name": "stdout",
     "output_type": "stream",
     "text": [
      "False\n",
      "False\n"
     ]
    }
   ],
   "source": [
    "print(tuple_1 == tuple_2)\n",
    "print(tuple_1 > tuple_2)"
   ],
   "metadata": {
    "collapsed": false,
    "pycharm": {
     "name": "#%%\n"
    }
   }
  },
  {
   "cell_type": "code",
   "execution_count": 12,
   "outputs": [
    {
     "data": {
      "text/plain": "True"
     },
     "execution_count": 12,
     "metadata": {},
     "output_type": "execute_result"
    }
   ],
   "source": [
    "tuple_1 != tuple_2"
   ],
   "metadata": {
    "collapsed": false,
    "pycharm": {
     "name": "#%%\n"
    }
   }
  },
  {
   "cell_type": "code",
   "execution_count": 13,
   "outputs": [
    {
     "data": {
      "text/plain": "('v', 'i', 'k', 'i', 'n', 'g', 's')"
     },
     "execution_count": 13,
     "metadata": {},
     "output_type": "execute_result"
    }
   ],
   "source": [
    "#The built-in tuple() function is used to create a tuple\n",
    "norse = \"vikings\"\n",
    "string_to_tuple = tuple(norse)\n",
    "string_to_tuple"
   ],
   "metadata": {
    "collapsed": false,
    "pycharm": {
     "name": "#%%\n"
    }
   }
  },
  {
   "cell_type": "code",
   "execution_count": 14,
   "outputs": [
    {
     "data": {
      "text/plain": "('g', 'o', 'd', 'o', 'f', 's', 'k', 'y')"
     },
     "execution_count": 14,
     "metadata": {},
     "output_type": "execute_result"
    }
   ],
   "source": [
    "zeus = [\"g\", \"o\", \"d\", \"o\", \"f\", \"s\", \"k\", \"y\"]\n",
    "list_to_tuple = tuple(zeus)\n",
    "list_to_tuple"
   ],
   "metadata": {
    "collapsed": false,
    "pycharm": {
     "name": "#%%\n"
    }
   }
  },
  {
   "cell_type": "code",
   "execution_count": 15,
   "outputs": [
    {
     "data": {
      "text/plain": "('v',\n 'i',\n 'k',\n 'i',\n 'n',\n 'g',\n 's',\n 's',\n 'c',\n 'a',\n 'n',\n 'd',\n 'i',\n 'n',\n 'a',\n 'v',\n 'i',\n 'a')"
     },
     "execution_count": 15,
     "metadata": {},
     "output_type": "execute_result"
    }
   ],
   "source": [
    "string_to_tuple + tuple(\"scandinavia\")"
   ],
   "metadata": {
    "collapsed": false,
    "pycharm": {
     "name": "#%%\n"
    }
   }
  },
  {
   "cell_type": "code",
   "execution_count": 16,
   "outputs": [
    {
     "data": {
      "text/plain": "('g', 'o', 'd', 'o', 'f', 's', 'k', 'y', 'g', 'r', 'e', 'e', 'k')"
     },
     "execution_count": 16,
     "metadata": {},
     "output_type": "execute_result"
    }
   ],
   "source": [
    "list_to_tuple + tuple([\"g\", \"r\", \"e\", \"e\", \"k\"])"
   ],
   "metadata": {
    "collapsed": false,
    "pycharm": {
     "name": "#%%\n"
    }
   }
  },
  {
   "cell_type": "code",
   "execution_count": 48,
   "outputs": [
    {
     "name": "stdout",
     "output_type": "stream",
     "text": [
      "(('a', 'b', 'c'), (1, 2, 3))\n"
     ]
    },
    {
     "data": {
      "text/plain": "('w', 'o', 'l', 'v', 'e', 'r', 'i', 'n', 'e')"
     },
     "execution_count": 48,
     "metadata": {},
     "output_type": "execute_result"
    }
   ],
   "source": [
    "#Nexted Tuples\n",
    "letters = (\"a\", \"b\", \"c\")\n",
    "numbers = (1, 2, 3)\n",
    "nested_tuples = (letters, numbers)\n",
    "print(nested_tuples)\n",
    "tuple(\"wolverine\")"
   ],
   "metadata": {
    "collapsed": false,
    "pycharm": {
     "name": "#%%\n"
    }
   }
  },
  {
   "cell_type": "markdown",
   "source": [
    "![](Images/Day3_7.png)"
   ],
   "metadata": {
    "collapsed": false,
    "pycharm": {
     "name": "#%% md\n"
    }
   }
  },
  {
   "cell_type": "code",
   "execution_count": 18,
   "outputs": [
    {
     "data": {
      "text/plain": "('jerusalem', 'kashivishwanath', 'harmandirsahib', 'bethlehem', 'mahabodhi')"
     },
     "execution_count": 18,
     "metadata": {},
     "output_type": "execute_result"
    }
   ],
   "source": [
    "#Indexing and Slicing in Tuples\n",
    "holy_places = (\"jerusalem\", \"kashivishwanath\", \"harmandirsahib\", \"bethlehem\",\"mahabodhi\")\n",
    "holy_places"
   ],
   "metadata": {
    "collapsed": false,
    "pycharm": {
     "name": "#%%\n"
    }
   }
  },
  {
   "cell_type": "code",
   "execution_count": 19,
   "outputs": [
    {
     "name": "stdout",
     "output_type": "stream",
     "text": [
      "jerusalem\n"
     ]
    }
   ],
   "source": [
    "print(holy_places[0])"
   ],
   "metadata": {
    "collapsed": false,
    "pycharm": {
     "name": "#%%\n"
    }
   }
  },
  {
   "cell_type": "code",
   "execution_count": 21,
   "outputs": [
    {
     "name": "stdout",
     "output_type": "stream",
     "text": [
      "kashivishwanath\n",
      "harmandirsahib\n",
      "bethlehem\n",
      "mahabodhi\n"
     ]
    }
   ],
   "source": [
    "print(holy_places[1])\n",
    "print(holy_places[2])\n",
    "print(holy_places[3])\n",
    "print(holy_places[4])"
   ],
   "metadata": {
    "collapsed": false,
    "pycharm": {
     "name": "#%%\n"
    }
   }
  },
  {
   "cell_type": "markdown",
   "source": [
    "![](Images/Day3_8.png)"
   ],
   "metadata": {
    "collapsed": false,
    "pycharm": {
     "name": "#%% md\n"
    }
   }
  },
  {
   "cell_type": "code",
   "execution_count": 22,
   "outputs": [
    {
     "data": {
      "text/plain": "'bethlehem'"
     },
     "execution_count": 22,
     "metadata": {},
     "output_type": "execute_result"
    }
   ],
   "source": [
    "#Negative Indexing in Tuples\n",
    "holy_places[-2]"
   ],
   "metadata": {
    "collapsed": false,
    "pycharm": {
     "name": "#%%\n"
    }
   }
  },
  {
   "cell_type": "markdown",
   "source": [
    "![](Images/Day3_9.png)"
   ],
   "metadata": {
    "collapsed": false,
    "pycharm": {
     "name": "#%% md\n"
    }
   }
  },
  {
   "cell_type": "markdown",
   "source": [
    "![](Images/Day3_10.png)"
   ],
   "metadata": {
    "collapsed": false,
    "pycharm": {
     "name": "#%% md\n"
    }
   }
  },
  {
   "cell_type": "code",
   "execution_count": 24,
   "outputs": [
    {
     "data": {
      "text/plain": "('v', 'i', 'b', 'g', 'y', 'o', 'r')"
     },
     "execution_count": 24,
     "metadata": {},
     "output_type": "execute_result"
    }
   ],
   "source": [
    "#Slicing in Tuples\n",
    "colors = (\"v\", \"i\", \"b\", \"g\", \"y\", \"o\", \"r\")\n",
    "colors"
   ],
   "metadata": {
    "collapsed": false,
    "pycharm": {
     "name": "#%%\n"
    }
   }
  },
  {
   "cell_type": "code",
   "execution_count": 25,
   "outputs": [
    {
     "data": {
      "text/plain": "('i', 'b', 'g')"
     },
     "execution_count": 25,
     "metadata": {},
     "output_type": "execute_result"
    }
   ],
   "source": [
    "colors[1:4]"
   ],
   "metadata": {
    "collapsed": false,
    "pycharm": {
     "name": "#%%\n"
    }
   }
  },
  {
   "cell_type": "code",
   "execution_count": 26,
   "outputs": [
    {
     "data": {
      "text/plain": "('v', 'i', 'b', 'g', 'y')"
     },
     "execution_count": 26,
     "metadata": {},
     "output_type": "execute_result"
    }
   ],
   "source": [
    "colors[:5]"
   ],
   "metadata": {
    "collapsed": false,
    "pycharm": {
     "name": "#%%\n"
    }
   }
  },
  {
   "cell_type": "code",
   "execution_count": 27,
   "outputs": [
    {
     "data": {
      "text/plain": "('g', 'y', 'o', 'r')"
     },
     "execution_count": 27,
     "metadata": {},
     "output_type": "execute_result"
    }
   ],
   "source": [
    "colors[3:]"
   ],
   "metadata": {
    "collapsed": false,
    "pycharm": {
     "name": "#%%\n"
    }
   }
  },
  {
   "cell_type": "code",
   "execution_count": 28,
   "outputs": [
    {
     "data": {
      "text/plain": "('v', 'i', 'b', 'g', 'y', 'o', 'r')"
     },
     "execution_count": 28,
     "metadata": {},
     "output_type": "execute_result"
    }
   ],
   "source": [
    "colors[:]"
   ],
   "metadata": {
    "collapsed": false,
    "pycharm": {
     "name": "#%%\n"
    }
   }
  },
  {
   "cell_type": "code",
   "execution_count": 29,
   "outputs": [
    {
     "data": {
      "text/plain": "('v', 'i', 'b', 'g', 'y', 'o', 'r')"
     },
     "execution_count": 29,
     "metadata": {},
     "output_type": "execute_result"
    }
   ],
   "source": [
    "colors[::]"
   ],
   "metadata": {
    "collapsed": false,
    "pycharm": {
     "name": "#%%\n"
    }
   }
  },
  {
   "cell_type": "code",
   "execution_count": 30,
   "outputs": [
    {
     "data": {
      "text/plain": "('i', 'g')"
     },
     "execution_count": 30,
     "metadata": {},
     "output_type": "execute_result"
    }
   ],
   "source": [
    "colors[1:5:2]"
   ],
   "metadata": {
    "collapsed": false,
    "pycharm": {
     "name": "#%%\n"
    }
   }
  },
  {
   "cell_type": "code",
   "execution_count": 31,
   "outputs": [
    {
     "data": {
      "text/plain": "('v', 'b', 'y', 'r')"
     },
     "execution_count": 31,
     "metadata": {},
     "output_type": "execute_result"
    }
   ],
   "source": [
    "colors[::2]"
   ],
   "metadata": {
    "collapsed": false,
    "pycharm": {
     "name": "#%%\n"
    }
   }
  },
  {
   "cell_type": "code",
   "execution_count": 32,
   "outputs": [
    {
     "data": {
      "text/plain": "('r', 'o', 'y', 'g', 'b', 'i', 'v')"
     },
     "execution_count": 32,
     "metadata": {},
     "output_type": "execute_result"
    }
   ],
   "source": [
    "colors[::-1]"
   ],
   "metadata": {
    "collapsed": false,
    "pycharm": {
     "name": "#%%\n"
    }
   }
  },
  {
   "cell_type": "code",
   "execution_count": 33,
   "outputs": [
    {
     "data": {
      "text/plain": "('b', 'g', 'y')"
     },
     "execution_count": 33,
     "metadata": {},
     "output_type": "execute_result"
    }
   ],
   "source": [
    "colors[-5:-2]"
   ],
   "metadata": {
    "collapsed": false,
    "pycharm": {
     "name": "#%%\n"
    }
   }
  },
  {
   "cell_type": "markdown",
   "source": [
    "![](Images/Day3_11.png)"
   ],
   "metadata": {
    "collapsed": false,
    "pycharm": {
     "name": "#%% md\n"
    }
   }
  },
  {
   "cell_type": "code",
   "execution_count": 35,
   "outputs": [
    {
     "name": "stdout",
     "output_type": "stream",
     "text": [
      "4\n",
      "7949\n",
      "[1981, 1985, 1987, 1996]\n"
     ]
    }
   ],
   "source": [
    "#Built-In Functions on Tuples\n",
    "years = (1987, 1985, 1981, 1996)\n",
    "print(len(years))\n",
    "print(sum(years))\n",
    "sorted_years = sorted(years)\n",
    "print(sorted_years)"
   ],
   "metadata": {
    "collapsed": false,
    "pycharm": {
     "name": "#%%\n"
    }
   }
  },
  {
   "cell_type": "code",
   "execution_count": 36,
   "outputs": [
    {
     "data": {
      "text/plain": "['great_barrier', 'ningaloo_coast', 'amazon_reef', 'pickles_reef']"
     },
     "execution_count": 36,
     "metadata": {},
     "output_type": "execute_result"
    }
   ],
   "source": [
    "#Relationship between Tuples and Lists\n",
    "coral_reef = (\"great_barrier\", \"ningaloo_coast\", \"amazon_reef\", \"pickles_reef\")\n",
    "coral_reef_list = list(coral_reef)\n",
    "coral_reef_list"
   ],
   "metadata": {
    "collapsed": false,
    "pycharm": {
     "name": "#%%\n"
    }
   }
  },
  {
   "cell_type": "code",
   "execution_count": 37,
   "outputs": [
    {
     "data": {
      "text/plain": "('ferrari', 'volvo', 'renault', ['porsche', 'audi', 'bmw'])"
     },
     "execution_count": 37,
     "metadata": {},
     "output_type": "execute_result"
    }
   ],
   "source": [
    "#An item within a tuple is mutable\n",
    "german_cars = [\"porsche\", \"audi\", \"bmw\"]\n",
    "european_cars = (\"ferrari\", \"volvo\", \"renault\", german_cars)\n",
    "european_cars\n"
   ],
   "metadata": {
    "collapsed": false,
    "pycharm": {
     "name": "#%%\n"
    }
   }
  },
  {
   "cell_type": "code",
   "execution_count": 38,
   "outputs": [
    {
     "name": "stdout",
     "output_type": "stream",
     "text": [
      "['porsche', 'audi', 'bmw', 'mercedes']\n",
      "('ferrari', 'volvo', 'renault', ['porsche', 'audi', 'bmw', 'mercedes'])\n"
     ]
    }
   ],
   "source": [
    "european_cars[3].append(\"mercedes\")\n",
    "print(german_cars)\n",
    "print(european_cars)"
   ],
   "metadata": {
    "collapsed": false,
    "pycharm": {
     "name": "#%%\n"
    }
   }
  },
  {
   "cell_type": "code",
   "execution_count": 39,
   "outputs": [
    {
     "data": {
      "text/plain": "{'white_shark': 520, 'beluga': 1571, 'greenland_shark': 1400}"
     },
     "execution_count": 39,
     "metadata": {},
     "output_type": "execute_result"
    }
   ],
   "source": [
    "#Relation between Tuples and Dictionaries\n",
    "fish_weight_kg = ((\"white_shark\", 520), (\"beluga\", 1571), (\"greenland_shark\",1400))\n",
    "fish_weight_kg_dict = dict(fish_weight_kg)\n",
    "fish_weight_kg_dict"
   ],
   "metadata": {
    "collapsed": false,
    "pycharm": {
     "name": "#%%\n"
    }
   }
  },
  {
   "cell_type": "markdown",
   "source": [
    "![](Images/Day3_12.png)"
   ],
   "metadata": {
    "collapsed": false,
    "pycharm": {
     "name": "#%% md\n"
    }
   }
  },
  {
   "cell_type": "code",
   "execution_count": 42,
   "outputs": [
    {
     "name": "stdout",
     "output_type": "stream",
     "text": [
      "2\n",
      "3\n"
     ]
    }
   ],
   "source": [
    "channels = (\"ngc\", \"discovery\", \"animal_planet\", \"history\", \"ngc\")\n",
    "print(channels.count(\"ngc\"))\n",
    "print(channels.index(\"history\"))"
   ],
   "metadata": {
    "collapsed": false,
    "pycharm": {
     "name": "#%%\n"
    }
   }
  },
  {
   "cell_type": "code",
   "execution_count": 43,
   "outputs": [
    {
     "data": {
      "text/plain": "(12345, 54321, 'hello!')"
     },
     "execution_count": 43,
     "metadata": {},
     "output_type": "execute_result"
    }
   ],
   "source": [
    "#Tuple Packing and UnPacking\n",
    "t= 12345, 54321, 'hello!'\n",
    "t"
   ],
   "metadata": {
    "collapsed": false,
    "pycharm": {
     "name": "#%%\n"
    }
   }
  },
  {
   "cell_type": "code",
   "execution_count": 46,
   "outputs": [
    {
     "name": "stdout",
     "output_type": "stream",
     "text": [
      "12345\n",
      "54321\n",
      "hello!\n"
     ]
    }
   ],
   "source": [
    "x, y, z = t\n",
    "print(x)\n",
    "print(y)\n",
    "print(z)"
   ],
   "metadata": {
    "collapsed": false,
    "pycharm": {
     "name": "#%%\n"
    }
   }
  },
  {
   "cell_type": "code",
   "execution_count": null,
   "outputs": [],
   "source": [],
   "metadata": {
    "collapsed": false,
    "pycharm": {
     "name": "#%%\n"
    }
   }
  },
  {
   "cell_type": "code",
   "execution_count": 1,
   "outputs": [
    {
     "name": "stdout",
     "output_type": "stream",
     "text": [
      "electric_eel is a ocean animal\n",
      "jelly_fish is a ocean animal\n",
      "shrimp is a ocean animal\n",
      "turtles is a ocean animal\n",
      "blue_whale is a ocean animal\n"
     ]
    }
   ],
   "source": [
    "# Program 8.1: Program to Iterate Over Items in Tuples Using for Loop\n",
    "\n",
    "ocean_animals = (\"electric_eel\", \"jelly_fish\", \"shrimp\", \"turtles\", \"blue_whale\")\n",
    "\n",
    "\n",
    "def main():\n",
    "    for each_animal in ocean_animals:\n",
    "        print(f\"{each_animal} is a ocean animal\")\n",
    "\n",
    "\n",
    "if __name__ == \"__main__\":\n",
    "    main()\n"
   ],
   "metadata": {
    "collapsed": false,
    "pycharm": {
     "name": "#%%\n"
    }
   }
  },
  {
   "cell_type": "code",
   "execution_count": 2,
   "metadata": {},
   "outputs": [
    {
     "name": "stdout",
     "output_type": "stream",
     "text": [
      "Enter the total number of items: 4\n",
      "Enter a number: 4\n",
      "Enter a number: 7\n",
      "Enter a number: 8\n",
      "Enter a number: 3\n",
      "Items added to tuple are (4, 7, 8, 3)\n",
      "Enter the total number of items: 3\n",
      "Enter an item to add: 5\n",
      "Enter an item to add: 79\n",
      "Enter an item to add: 5\n",
      "Tuple items are ('5', '79', '5')\n"
     ]
    }
   ],
   "source": [
    "# Program 8.2: Program to Populate Tuple with User-Entered Items\n",
    "\n",
    "tuple_items = ()\n",
    "\n",
    "total_items = int(input(\"Enter the total number of items: \"))\n",
    "for i in range(total_items):\n",
    "    user_input = int(input(\"Enter a number: \"))\n",
    "    tuple_items += (user_input,)\n",
    "print(f\"Items added to tuple are {tuple_items}\")\n",
    "\n",
    "\n",
    "list_items = []\n",
    "total_items = int(input(\"Enter the total number of items: \"))\n",
    "for i in range(total_items):\n",
    "    item = input(\"Enter an item to add: \")\n",
    "    list_items.append(item)\n",
    "\n",
    "items_of_tuple = tuple(list_items)\n",
    "\n",
    "print(f\"Tuple items are {items_of_tuple}\")"
   ]
  },
  {
   "cell_type": "code",
   "execution_count": 3,
   "metadata": {},
   "outputs": [
    {
     "name": "stdout",
     "output_type": "stream",
     "text": [
      "Enter a value for first number 45\n",
      "Enter a value for second number 23\n",
      "After Swapping\n",
      "Value for first number 23\n",
      "Value for second number 45\n"
     ]
    }
   ],
   "source": [
    "# Program 8.3: Write Python Program to Swap Two Numbers Without Using\n",
    "# Intermediate/Temporary Variables. Prompt the User for Input\n",
    "\n",
    "\n",
    "def main():\n",
    "    a = int(input(\"Enter a value for first number \"))\n",
    "    b = int(input(\"Enter a value for second number \"))\n",
    "\n",
    "    b, a = a, b\n",
    "\n",
    "    print(\"After Swapping\")\n",
    "    print(f\"Value for first number {a}\")\n",
    "    print(f\"Value for second number {b}\")\n",
    "\n",
    "\n",
    "if __name__ == \"__main__\":\n",
    "    main()"
   ]
  },
  {
   "cell_type": "code",
   "execution_count": 4,
   "metadata": {},
   "outputs": [
    {
     "name": "stdout",
     "output_type": "stream",
     "text": [
      "Which is your favorite monument? taj\n",
      "When was it constructed? agra\n",
      "My favorite monument is taj and it was constructed in agra\n",
      "Which is your favorite monument? rr\n",
      "When was it constructed? 456\n",
      "My favorite monument is rr and it was constructed in 456\n"
     ]
    }
   ],
   "source": [
    "# Program 8.4: Program to Demonstrate the Return of Multiple Values from a Function\n",
    "\n",
    "\n",
    "def return_multiple_items():\n",
    "    monument = input(\"Which is your favorite monument? \")\n",
    "    year = input(\"When was it constructed? \")\n",
    "    return monument, year\n",
    "\n",
    "\n",
    "def main():\n",
    "    mnt, yr = return_multiple_items()\n",
    "    print(f\"My favorite monument is {mnt} and it was constructed in {yr}\")\n",
    "\n",
    "    result = return_multiple_items()\n",
    "    print(f\"My favorite monument is {result[0]} and it was constructed in {result[1]}\")\n",
    "\n",
    "\n",
    "if __name__ == \"__main__\":\n",
    "    main()"
   ]
  },
  {
   "cell_type": "code",
   "execution_count": 5,
   "metadata": {},
   "outputs": [
    {
     "name": "stdout",
     "output_type": "stream",
     "text": [
      "Enter a sentence this is veena\n",
      "After sorting\n",
      "The word \"veena\" is of 5 characters\n",
      "The word \"this\" is of 4 characters\n",
      "The word \"is\" is of 2 characters\n"
     ]
    }
   ],
   "source": [
    "# Program 8.5: Write Python Program to Sort Words in a Sentence in Decreasing\n",
    "# Order of Their Length. Display the Sorted Words along with Their Length\n",
    "\n",
    "\n",
    "def sort_words(user_input):\n",
    "    list_of_words = user_input.split()\n",
    "    words = list()\n",
    "    for each_word in list_of_words:\n",
    "        words.append((len(each_word), each_word))\n",
    "\n",
    "    words.sort(reverse=True)\n",
    "\n",
    "    print(\"After sorting\")\n",
    "    for length, word in words:\n",
    "        print(f'The word \"{word}\" is of {length} characters')\n",
    "\n",
    "\n",
    "def main():\n",
    "    sentence = input(\"Enter a sentence \")\n",
    "    sort_words(sentence)\n",
    "\n",
    "\n",
    "if __name__ == \"__main__\":\n",
    "    main()"
   ]
  },
  {
   "cell_type": "code",
   "execution_count": 6,
   "metadata": {},
   "outputs": [
    {
     "name": "stdout",
     "output_type": "stream",
     "text": [
      "Enter names separated by a space\n",
      "veena vijay\n",
      "After Sorting\n",
      "['veena', 'vijay']\n"
     ]
    }
   ],
   "source": [
    "# Program 8.6: Write Pythonic Code to Sort a Sequence of Names according\n",
    "# to Their Alphabetical Order Without Using sort() Function\n",
    "\n",
    "\n",
    "def read_list_items():\n",
    "    print(\"Enter names separated by a space\")\n",
    "    list_items = input().split()\n",
    "    return list_items\n",
    "\n",
    "\n",
    "def sort_item_list(items_in_list):\n",
    "    n = len(items_in_list)\n",
    "    for i in range(n):\n",
    "        for j in range(1, n-i):\n",
    "            if items_in_list[j-1] > items_in_list[j]:\n",
    "                (items_in_list[j-1], items_in_list[j]) = (items_in_list[j], items_in_list[j-1])\n",
    "    print(\"After Sorting\")\n",
    "    print(items_in_list)\n",
    "\n",
    "\n",
    "def main():\n",
    "    all_items = read_list_items()\n",
    "    sort_item_list(all_items)\n",
    "\n",
    "\n",
    "if __name__ == \"__main__\":\n",
    "    main()"
   ]
  },
  {
   "cell_type": "code",
   "execution_count": 49,
   "outputs": [
    {
     "data": {
      "text/plain": "[(1, 4), (2, 5), (3, 6)]"
     },
     "execution_count": 49,
     "metadata": {},
     "output_type": "execute_result"
    }
   ],
   "source": [
    "#Using zip function\n",
    "x = [1, 2, 3]\n",
    "y = [4, 5, 6]\n",
    "zipped = zip(x, y)\n",
    "list(zipped)"
   ],
   "metadata": {
    "collapsed": false,
    "pycharm": {
     "name": "#%%\n"
    }
   }
  },
  {
   "cell_type": "code",
   "execution_count": 50,
   "outputs": [
    {
     "name": "stdout",
     "output_type": "stream",
     "text": [
      "What is your name? It is lancelot\n",
      "What is your quest? It is the holy grail\n",
      "What is your favorite color? It is blue\n"
     ]
    }
   ],
   "source": [
    "#To loop over two or more sequences at the same time, the entries can be paired with the zip() function.\n",
    "questions = ('name', 'quest', 'favorite color')\n",
    "answers = ('lancelot', 'the holy grail', 'blue')\n",
    "for q, a in zip(questions, answers):\n",
    "    print(f'What is your {q}? It is {a}')"
   ],
   "metadata": {
    "collapsed": false,
    "pycharm": {
     "name": "#%%\n"
    }
   }
  },
  {
   "cell_type": "code",
   "execution_count": 52,
   "outputs": [
    {
     "name": "stdout",
     "output_type": "stream",
     "text": [
      "{'apple', 'pear', 'orange', 'banana'}\n",
      "True\n",
      "False\n"
     ]
    }
   ],
   "source": [
    "# A set is an unordered collection with no duplicate items.\n",
    "basket = {'apple', 'orange', 'apple', 'pear', 'orange', 'banana'}\n",
    "print(basket)\n",
    "print('orange' in basket)\n",
    "print('crabgrass' in basket)"
   ],
   "metadata": {
    "collapsed": false,
    "pycharm": {
     "name": "#%%\n"
    }
   }
  },
  {
   "cell_type": "code",
   "execution_count": 53,
   "outputs": [
    {
     "name": "stdout",
     "output_type": "stream",
     "text": [
      "{'r', 'b', 'c', 'd', 'a'}\n",
      "{'m', 'c', 'a', 'l', 'z'}\n"
     ]
    }
   ],
   "source": [
    "a = set('abracadabra')\n",
    "b = set('alacazam')\n",
    "print(a)\n",
    "print(b)"
   ],
   "metadata": {
    "collapsed": false,
    "pycharm": {
     "name": "#%%\n"
    }
   }
  },
  {
   "cell_type": "code",
   "execution_count": 56,
   "outputs": [
    {
     "name": "stdout",
     "output_type": "stream",
     "text": [
      "{'d', 'r', 'b'}\n",
      "{'r', 'm', 'b', 'c', 'd', 'a', 'l', 'z'}\n",
      "{'a', 'c'}\n",
      "{'r', 'd', 'b', 'm', 'l', 'z'}\n",
      "4\n",
      "['apple', 'banana', 'orange', 'pear']\n"
     ]
    }
   ],
   "source": [
    "print(a-b)\n",
    "print(a|b)\n",
    "print(a&b)\n",
    "print(a^b)\n",
    "print(len(basket))\n",
    "print(sorted(basket))"
   ],
   "metadata": {
    "collapsed": false,
    "pycharm": {
     "name": "#%%\n"
    }
   }
  },
  {
   "cell_type": "markdown",
   "source": [
    "![](Images/Day3_13.png)"
   ],
   "metadata": {
    "collapsed": false,
    "pycharm": {
     "name": "#%% md\n"
    }
   }
  },
  {
   "cell_type": "code",
   "execution_count": 61,
   "outputs": [
    {
     "name": "stdout",
     "output_type": "stream",
     "text": [
      "{'orchids', 'daisies', 'lilies'}\n",
      "{'roses', 'tulips'}\n",
      "False\n",
      "False\n"
     ]
    }
   ],
   "source": [
    "#Set Methods examples\n",
    "european_flowers = {\"sunflowers\", \"roses\", \"lavender\", \"tulips\", \"goldcrest\"}\n",
    "american_flowers = {\"roses\", \"tulips\", \"lilies\", \"daisies\"}\n",
    "american_flowers.add(\"orchids\")\n",
    "print(american_flowers.difference(european_flowers))\n",
    "print(american_flowers.intersection(european_flowers))\n",
    "print(american_flowers.isdisjoint(european_flowers))\n",
    "print(american_flowers.issuperset(european_flowers))"
   ],
   "metadata": {
    "collapsed": false,
    "pycharm": {
     "name": "#%%\n"
    }
   }
  },
  {
   "cell_type": "code",
   "execution_count": 62,
   "outputs": [
    {
     "name": "stdout",
     "output_type": "stream",
     "text": [
      "False\n",
      "{'orchids', 'daisies', 'sunflowers', 'lavender', 'goldcrest', 'lilies'}\n",
      "{'roses', 'daisies', 'lilies', 'tulips', 'orchids', 'lavender', 'sunflowers', 'goldcrest'}\n",
      "{'roses', 'daisies', 'lilies', 'tulips', 'orchids', 'lavender', 'sunflowers', 'goldcrest'}\n"
     ]
    }
   ],
   "source": [
    "print(american_flowers.issubset(european_flowers))\n",
    "print(american_flowers.symmetric_difference(european_flowers))\n",
    "print(american_flowers.union(european_flowers))\n",
    "american_flowers.update(european_flowers)\n",
    "print(american_flowers)"
   ],
   "metadata": {
    "collapsed": false,
    "pycharm": {
     "name": "#%%\n"
    }
   }
  },
  {
   "cell_type": "code",
   "execution_count": 63,
   "outputs": [
    {
     "name": "stdout",
     "output_type": "stream",
     "text": [
      "{'daisies', 'lilies', 'tulips', 'orchids', 'lavender', 'sunflowers', 'goldcrest'}\n",
      "roses\n",
      "set()\n"
     ]
    }
   ],
   "source": [
    "american_flowers.discard(\"roses\")\n",
    "print(american_flowers)\n",
    "print(european_flowers.pop())\n",
    "american_flowers.clear()\n",
    "print(american_flowers)"
   ],
   "metadata": {
    "collapsed": false,
    "pycharm": {
     "name": "#%%\n"
    }
   }
  },
  {
   "cell_type": "code",
   "execution_count": 7,
   "metadata": {},
   "outputs": [
    {
     "name": "stdout",
     "output_type": "stream",
     "text": [
      "ins_hetz is a Warship\n",
      "hms_beagle is a Warship\n",
      "u.s.s._arizona is a Warship\n",
      "ins_airavat is a Warship\n"
     ]
    }
   ],
   "source": [
    "# Program 8.7: Program to Iterate Over Items in Sets Using for Loop\n",
    "\n",
    "warships = {\"u.s.s._arizona\", \"hms_beagle\", \"ins_airavat\", \"ins_hetz\"}\n",
    "\n",
    "\n",
    "def main():\n",
    "    for each_ship in warships:\n",
    "        print(f\"{each_ship} is a Warship\")\n",
    "\n",
    "\n",
    "if __name__ == \"__main__\":\n",
    "    main()"
   ]
  },
  {
   "cell_type": "code",
   "execution_count": 8,
   "metadata": {},
   "outputs": [
    {
     "name": "stdout",
     "output_type": "stream",
     "text": [
      "Unique characters in the word egg are ['g', 'e']\n",
      "Unique characters in the word immune are ['u', 'i', 'n', 'e', 'm']\n",
      "Unique characters in the word feed are ['f', 'e', 'd']\n",
      "Unique characters in the word vacuum are ['a', 'u', 'v', 'c', 'm']\n",
      "Unique characters in the word goddessship are ['g', 'i', 's', 'p', 'e', 'd', 'h', 'o']\n"
     ]
    }
   ],
   "source": [
    "# Program 8.8: Write a Function Which Receives a Variable Number of\n",
    "# Strings as Arguments. Find Unique Characters in Each String\n",
    "\n",
    "\n",
    "def find_unique(*all_words):\n",
    "    for each_word in all_words:\n",
    "        unique_character_list = list(set(each_word))\n",
    "        print(f\"Unique characters in the word {each_word} are {unique_character_list}\")\n",
    "\n",
    "\n",
    "def main():\n",
    "    find_unique(\"egg\", \"immune\", \"feed\", \"vacuum\", \"goddessship\")\n",
    "\n",
    "\n",
    "if __name__ == \"__main__\":\n",
    "    main()"
   ]
  },
  {
   "cell_type": "code",
   "execution_count": 9,
   "metadata": {},
   "outputs": [
    {
     "name": "stdout",
     "output_type": "stream",
     "text": [
      "Enter a sentence This is a beautiful city\n",
      "The unique and sorted words are ['This', 'a', 'beautiful', 'city', 'is']\n"
     ]
    }
   ],
   "source": [
    "# Program 8.9: Write a Python Program That Accepts a Sentence as Input\n",
    "# and Removes All Duplicate Words. Print the Sorted Words\n",
    "\n",
    "\n",
    "def unique_words(user_input):\n",
    "    words = user_input.split()\n",
    "    print(f\"The unique and sorted words are {sorted(list(set(words)))}\")\n",
    "\n",
    "\n",
    "def main():\n",
    "    sentence = input(\"Enter a sentence \")\n",
    "    unique_words(sentence)\n",
    "\n",
    "\n",
    "if __name__ == \"__main__\":\n",
    "    main()"
   ]
  },
  {
   "cell_type": "code",
   "execution_count": 64,
   "outputs": [
    {
     "data": {
      "text/plain": "frozenset({'d', 'g', 'o'})"
     },
     "execution_count": 64,
     "metadata": {},
     "output_type": "execute_result"
    }
   ],
   "source": [
    "#frozenset\n",
    "#A frozenset is basically the same as a set, except that it is immutable. Once a frozenset is created, then its items cannot be changed.\n",
    "fs = frozenset([\"g\", \"o\", \"o\", \"d\"])\n",
    "fs"
   ],
   "metadata": {
    "collapsed": false,
    "pycharm": {
     "name": "#%%\n"
    }
   }
  },
  {
   "cell_type": "code",
   "execution_count": 65,
   "outputs": [
    {
     "data": {
      "text/plain": "{'cattle', frozenset({'d', 'g', 'o'}), 'horse'}"
     },
     "execution_count": 65,
     "metadata": {},
     "output_type": "execute_result"
    }
   ],
   "source": [
    "animals = set([fs, \"cattle\", \"horse\"])\n",
    "animals"
   ],
   "metadata": {
    "collapsed": false,
    "pycharm": {
     "name": "#%%\n"
    }
   }
  },
  {
   "cell_type": "code",
   "execution_count": 66,
   "outputs": [
    {
     "data": {
      "text/plain": "frozenset({'english', 'french', 'spanish'})"
     },
     "execution_count": 66,
     "metadata": {},
     "output_type": "execute_result"
    }
   ],
   "source": [
    "official_languages_world = {\"english\":59, \"french\":29, \"spanish\":21}\n",
    "frozenset(official_languages_world)"
   ],
   "metadata": {
    "collapsed": false,
    "pycharm": {
     "name": "#%%\n"
    }
   }
  },
  {
   "cell_type": "code",
   "execution_count": 67,
   "outputs": [
    {
     "data": {
      "text/plain": "{'english': 59, 'french': 29, 'spanish': 21, frozenset({'german'}): 6}"
     },
     "execution_count": 67,
     "metadata": {},
     "output_type": "execute_result"
    }
   ],
   "source": [
    "frs = frozenset([\"german\"])\n",
    "official_languages_world = {\"english\":59, \"french\":29, \"spanish\":21, frs:6}\n",
    "official_languages_world"
   ],
   "metadata": {
    "collapsed": false,
    "pycharm": {
     "name": "#%%\n"
    }
   }
  }
 ],
 "metadata": {
  "kernelspec": {
   "display_name": "Python 3",
   "language": "python",
   "name": "python3"
  },
  "language_info": {
   "codemirror_mode": {
    "name": "ipython",
    "version": 3
   },
   "file_extension": ".py",
   "mimetype": "text/x-python",
   "name": "python",
   "nbconvert_exporter": "python",
   "pygments_lexer": "ipython3",
   "version": "3.8.5"
  }
 },
 "nbformat": 4,
 "nbformat_minor": 4
}