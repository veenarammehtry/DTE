{
 "cells": [
  {
   "cell_type": "markdown",
   "metadata": {
    "collapsed": true,
    "pycharm": {
     "name": "#%% md\n"
    }
   },
   "source": [
    "# Hands-On Session"
   ]
  },
  {
   "cell_type": "markdown",
   "source": [
    "**Workflow for this Hands-On Session**\n",
    "\n",
    "1. Write Python code to solve the programming questions\n",
    "2. All the questions are based on what we have already questioned\n",
    "3. Solutions to all the questions are available in the Solutions.ipynb Jupyter notebook\n",
    "4. It is highly encouraged to solve the programming questionnaires on your own even though you can refer to the solutions"
   ],
   "metadata": {
    "collapsed": false,
    "pycharm": {
     "name": "#%% md\n"
    }
   }
  },
  {
   "cell_type": "markdown",
   "source": [
    "**Q1. Write a Python script to generate and print a dictionary that contains a number (between 1 and n) in the form (x, x*x)**"
   ],
   "metadata": {
    "collapsed": false,
    "pycharm": {
     "name": "#%% md\n"
    }
   }
  },
  {
   "cell_type": "code",
   "execution_count": null,
   "outputs": [],
   "source": [],
   "metadata": {
    "collapsed": false,
    "pycharm": {
     "name": "#%%\n"
    }
   }
  },
  {
   "cell_type": "markdown",
   "source": [
    "**Q2. Write a Python script to generate a Dictionary that contains cities located in India and their corresponding population. Calculate the sum of the population and the average population\n",
    "                    Delhi -- 8550405, Bangalore -- 3971883, Chennai -- 2731571, Hyderabad -- 2720546,\n",
    "                    Jaipur -- 2296224,  Udaipur -- 1704694 **"
   ],
   "metadata": {
    "collapsed": false,
    "pycharm": {
     "name": "#%% md\n"
    }
   },
   "outputs": [
    {
     "ename": "SyntaxError",
     "evalue": "invalid syntax (<ipython-input-1-e2a943ffbfc1>, line 1)",
     "output_type": "error",
     "traceback": [
      "\u001B[1;36m  File \u001B[1;32m\"<ipython-input-1-e2a943ffbfc1>\"\u001B[1;36m, line \u001B[1;32m1\u001B[0m\n\u001B[1;33m    **Q2. Write a Python script to generate a Dictionary that conatins cities located in India and their corresponding population. Calculate the sum of the population and the average population **\u001B[0m\n\u001B[1;37m    ^\u001B[0m\n\u001B[1;31mSyntaxError\u001B[0m\u001B[1;31m:\u001B[0m invalid syntax\n"
     ]
    }
   ],
   "execution_count": 1
  },
  {
   "cell_type": "code",
   "execution_count": null,
   "outputs": [],
   "source": [],
   "metadata": {
    "collapsed": false,
    "pycharm": {
     "name": "#%%\n"
    }
   }
  },
  {
   "cell_type": "code",
   "execution_count": null,
   "outputs": [],
   "source": [],
   "metadata": {
    "collapsed": false,
    "pycharm": {
     "name": "#%%\n"
    }
   }
  },
  {
   "cell_type": "markdown",
   "source": [],
   "metadata": {
    "collapsed": false,
    "pycharm": {
     "name": "#%% md\n"
    }
   }
  }
 ],
 "metadata": {
  "kernelspec": {
   "display_name": "Python 3",
   "language": "python",
   "name": "python3"
  },
  "language_info": {
   "codemirror_mode": {
    "name": "ipython",
    "version": 2
   },
   "file_extension": ".py",
   "mimetype": "text/x-python",
   "name": "python",
   "nbconvert_exporter": "python",
   "pygments_lexer": "ipython2",
   "version": "2.7.6"
  }
 },
 "nbformat": 4,
 "nbformat_minor": 0
}