{
 "cells": [
  {
   "cell_type": "markdown",
   "metadata": {
    "collapsed": true,
    "pycharm": {
     "name": "#%% md\n"
    }
   },
   "source": [
    "# Hands-On Session"
   ]
  },
  {
   "cell_type": "markdown",
   "source": [
    "**Workflow for this Hands-On Session**\n",
    "\n",
    "1. Write Python code to solve the programming questions\n",
    "2. All the questions are based on what we have already questioned\n",
    "3. Solutions to all the questions are available in the Solutions.ipynb Jupyter notebook\n",
    "4. It is highly encouraged to solve the programming questionnaires on your own even though you can refer to the solutions"
   ],
   "metadata": {
    "collapsed": false,
    "pycharm": {
     "name": "#%% md\n"
    }
   }
  },
  {
   "cell_type": "markdown",
   "source": [
    "**Q1. Write a Python script to generate and print a dictionary that contains a number (between 1 and n) in the form (x, x*x)**"
   ],
   "metadata": {
    "collapsed": false,
    "pycharm": {
     "name": "#%% md\n"
    }
   }
  },
  {
   "cell_type": "code",
   "execution_count": 11,
   "outputs": [
    {
     "name": "stdout",
     "output_type": "stream",
     "text": [
      "{1: 1, 2: 4, 3: 9, 4: 16, 5: 25, 6: 36, 7: 49, 8: 64}\n"
     ]
    }
   ],
   "source": [
    "n=int(input(\"Input a number \"))\n",
    "d = dict()\n",
    "\n",
    "for x in range(1,n+1):\n",
    "    d[x]=x*x\n",
    "\n",
    "print(d)"
   ],
   "metadata": {
    "collapsed": false,
    "pycharm": {
     "name": "#%%\n"
    }
   }
  },
  {
   "cell_type": "markdown",
   "source": [
    "**Q2. Write a Python script to generate a Dictionary that contains cities located in India and their corresponding population. Calculate the sum of the population and the average population Delhi – 8550405, Bangalore – 3971883, Chennai – 2731571, Hyderabad – 2720546, Jaipur – 2296224, Udaipur – 1704694 **"
   ],
   "metadata": {
    "collapsed": false,
    "pycharm": {
     "name": "#%% md\n"
    }
   }
  },
  {
   "cell_type": "code",
   "execution_count": 5,
   "outputs": [
    {
     "name": "stdout",
     "output_type": "stream",
     "text": [
      "{'Delhi': 8550405, 'Bangalore': 3971883, 'Chennai': 2731571, 'Hyderabad': 2720546, 'Jaipur': 2296224, 'Udaipur': 1704694}\n",
      "Average of all the population is 3662553.8333333335\n"
     ]
    }
   ],
   "source": [
    "city_population = {\"Delhi\": 8550405,\"Bangalore\": 3971883,\n",
    "                   \"Chennai\": 2731571,\"Hyderabad\": 2720546,\n",
    "                   \"Jaipur\": 2296224,\"Udaipur\": 1704694}\n",
    "print(city_population)\n",
    "average = (sum(city_population.values()) / len(city_population))\n",
    "print(f\"Average of all the population is {average}\")\n"
   ],
   "metadata": {
    "collapsed": false,
    "pycharm": {
     "name": "#%%\n"
    }
   }
  },
  {
   "cell_type": "code",
   "execution_count": null,
   "outputs": [],
   "source": [],
   "metadata": {
    "collapsed": false,
    "pycharm": {
     "name": "#%%\n"
    }
   }
  }
 ],
 "metadata": {
  "kernelspec": {
   "display_name": "Python 3",
   "language": "python",
   "name": "python3"
  },
  "language_info": {
   "codemirror_mode": {
    "name": "ipython",
    "version": 2
   },
   "file_extension": ".py",
   "mimetype": "text/x-python",
   "name": "python",
   "nbconvert_exporter": "python",
   "pygments_lexer": "ipython2",
   "version": "2.7.6"
  }
 },
 "nbformat": 4,
 "nbformat_minor": 0
}