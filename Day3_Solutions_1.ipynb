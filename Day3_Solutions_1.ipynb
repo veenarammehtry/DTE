{
 "cells": [
  {
   "cell_type": "markdown",
   "metadata": {
    "collapsed": true,
    "pycharm": {
     "name": "#%% md\n"
    }
   },
   "source": [
    "# Hands-On Session"
   ]
  },
  {
   "cell_type": "markdown",
   "source": [
    "**Workflow for this Hands-On Session**\n",
    "\n",
    "1. Write Python code to solve the programming questions.\n",
    "2. All the questions are based on what we have already discussed.\n",
    "3. Solutions to all the questions are available in the Day3_Solutions_1.ipynb Jupyter notebook.\n",
    "4. It is highly encouraged to solve the programming questionnaires on your own even though you can refer to the solutions."
   ],
   "metadata": {
    "collapsed": false,
    "pycharm": {
     "name": "#%% md\n"
    }
   }
  },
  {
   "cell_type": "markdown",
   "source": [
    "**Q1. Use the get method to print the value of the \"model\" key of the car dictionary.**"
   ],
   "metadata": {
    "collapsed": false,
    "pycharm": {
     "name": "#%% md\n"
    }
   }
  },
  {
   "cell_type": "code",
   "execution_count": null,
   "outputs": [],
   "source": [
    "car =\t{\n",
    "  \"brand\": \"Ford\",\n",
    "  \"model\": \"Mustang\",\n",
    "  \"year\": 1964\n",
    "}\n",
    "print(car.get(\"model\"))"
   ],
   "metadata": {
    "collapsed": false,
    "pycharm": {
     "name": "#%%\n"
    }
   }
  },
  {
   "cell_type": "markdown",
   "source": [
    "**Q2. Write a python code to loop through any given dictionary.**"
   ],
   "metadata": {
    "collapsed": false,
    "pycharm": {
     "name": "#%% md\n"
    }
   }
  },
  {
   "cell_type": "code",
   "execution_count": 1,
   "outputs": [
    {
     "name": "stdout",
     "output_type": "stream",
     "text": [
      "Key: StuName Value: Steve\n",
      "Key: StuAge Value: 4\n",
      "Key: StuCity Value: Agra\n"
     ]
    }
   ],
   "source": [
    "mydict = {'StuName': 'Steve', 'StuAge': 4, 'StuCity': 'Agra'}\n",
    "for e in mydict:\n",
    "  print(\"Key:\",e,\"Value:\",mydict[e])"
   ],
   "metadata": {
    "collapsed": false,
    "pycharm": {
     "name": "#%%\n"
    }
   }
  },
  {
   "cell_type": "markdown",
   "source": [
    "**Q3. Write a Python script to generate and print a dictionary that contains a number (between 1 and n) in the form (x, x*x)**"
   ],
   "metadata": {
    "collapsed": false
   }
  },
  {
   "cell_type": "code",
   "execution_count": 11,
   "outputs": [
    {
     "name": "stdout",
     "output_type": "stream",
     "text": [
      "{1: 1, 2: 4, 3: 9, 4: 16, 5: 25, 6: 36, 7: 49, 8: 64}\n"
     ]
    }
   ],
   "source": [
    "n=int(input(\"Input a number \"))\n",
    "d = dict()\n",
    "\n",
    "for x in range(1,n+1):\n",
    "    d[x]=x*x\n",
    "\n",
    "print(d)"
   ],
   "metadata": {
    "collapsed": false,
    "pycharm": {
     "name": "#%%\n"
    }
   }
  },
  {
   "cell_type": "markdown",
   "source": [
    "**Q4. Create a dictionary by extracting the key values from a given dictionary. The given dictionary is\n",
    "     sample_dict{\"name\": \"Kelly\",\n",
    "    \"age\": 25,\n",
    "    \"salary\": 8000,\n",
    "    \"city\": \"New york\"} and extract the name and salary from the given dictionary**"
   ],
   "metadata": {
    "collapsed": false
   }
  },
  {
   "cell_type": "code",
   "execution_count": 2,
   "outputs": [
    {
     "name": "stdout",
     "output_type": "stream",
     "text": [
      "{'age': 25, 'city': 'New york'}\n"
     ]
    }
   ],
   "source": [
    "sample_dict = {\n",
    "    \"name\": \"Kelly\",\n",
    "    \"age\": 25,\n",
    "    \"salary\": 8000,\n",
    "    \"city\": \"New york\"\n",
    "}\n",
    "# Keys to remove\n",
    "keys = [\"name\", \"salary\"]\n",
    "\n",
    "for k in keys:\n",
    "    sample_dict.pop(k)\n",
    "print(sample_dict)"
   ],
   "metadata": {
    "collapsed": false,
    "pycharm": {
     "name": "#%%\n"
    }
   }
  },
  {
   "cell_type": "markdown",
   "source": [
    "**Q5. Write a Python script to store book id, book name and price of three books and store the data in dictionary named “dict”**"
   ],
   "metadata": {
    "collapsed": false
   }
  },
  {
   "cell_type": "code",
   "execution_count": 9,
   "outputs": [
    {
     "name": "stdout",
     "output_type": "stream",
     "text": [
      "{33: ['Python', 444]}\n"
     ]
    }
   ],
   "source": [
    "dict = {}\n",
    "n = int(input(\"Enter the number of books:\"))\n",
    "for i in range(n):\n",
    "     b_id = int(input(\"Enter book id : \"))\n",
    "     b_name = input(\"Enter book name : \")\n",
    "     b_price = int(input(\"Enter price of book : \"))\n",
    "     temp=[b_name,b_price]\n",
    "     dict[b_id] = temp\n",
    "print(dict)"
   ],
   "metadata": {
    "collapsed": false,
    "pycharm": {
     "name": "#%%\n"
    }
   }
  },
  {
   "cell_type": "markdown",
   "source": [
    "**Q6. Write a Python script to generate a Dictionary that contains cities located in India and their corresponding population. Calculate the sum of the population and the average population Delhi – 8550405, Bangalore – 3971883, Chennai – 2731571, Hyderabad – 2720546, Jaipur – 2296224, Udaipur – 1704694**"
   ],
   "metadata": {
    "collapsed": false,
    "pycharm": {
     "name": "#%% md\n"
    }
   }
  },
  {
   "cell_type": "code",
   "execution_count": 5,
   "outputs": [
    {
     "name": "stdout",
     "output_type": "stream",
     "text": [
      "{'Delhi': 8550405, 'Bangalore': 3971883, 'Chennai': 2731571, 'Hyderabad': 2720546, 'Jaipur': 2296224, 'Udaipur': 1704694}\n",
      "Average of all the population is 3662553.8333333335\n"
     ]
    }
   ],
   "source": [
    "city_population = {\"Delhi\": 8550405,\"Bangalore\": 3971883,\n",
    "                   \"Chennai\": 2731571,\"Hyderabad\": 2720546,\n",
    "                   \"Jaipur\": 2296224,\"Udaipur\": 1704694}\n",
    "print(city_population)\n",
    "average = (sum(city_population.values()) / len(city_population))\n",
    "print(f\"Average of all the population is {average}\")\n"
   ],
   "metadata": {
    "collapsed": false,
    "pycharm": {
     "name": "#%%\n"
    }
   }
  },
  {
   "cell_type": "markdown",
   "source": [
    "**Q7. Given a dictionary, append another dictionary at beginning of it.  Append the {‘pre1’: 4, ‘Gfg’: 5} to the beginning of the test_dict={\"Gfg\":5, \"is\":3, \"best\":10}**"
   ],
   "metadata": {
    "collapsed": false,
    "pycharm": {
     "name": "#%% md\n"
    }
   }
  },
  {
   "cell_type": "code",
   "execution_count": 3,
   "outputs": [
    {
     "name": "stdout",
     "output_type": "stream",
     "text": [
      "The original dictionary is : {'Gfg': 5, 'is': 3, 'best': 10}\n",
      "The required dictionary : {'pre1': 4, 'pre2': 8, 'Gfg': 5, 'is': 3, 'best': 10}\n"
     ]
    }
   ],
   "source": [
    "# Python3 code to demonstrate working of\n",
    "# Append items at beginning of dictionary\n",
    "# Using update()\n",
    "\n",
    "# initializing dictionary\n",
    "test_dict = {\"Gfg\" : 5, \"is\" : 3, \"best\" : 10}\n",
    "\n",
    "# printing original dictionary\n",
    "print(\"The original dictionary is : \" + str(test_dict))\n",
    "\n",
    "# initializing update dictionary\n",
    "updict = {\"pre1\" : 4, \"pre2\" : 8}\n",
    "\n",
    "# update() on new dictionary to get desired order\n",
    "updict.update(test_dict)\n",
    "\n",
    "# printing result\n",
    "print(\"The required dictionary : \" + str(updict))"
   ],
   "metadata": {
    "collapsed": false,
    "pycharm": {
     "name": "#%%\n"
    }
   }
  },
  {
   "cell_type": "markdown",
   "source": [
    "**Q8. Write a Python program to filter the height and width of students, which are stored in a dictionary.\n",
    "{'Omkar': (6.2, 70), 'Sohan': (5.9, 65), 'Yatin': (6.0, 68), 'Yash': (5.8, 66)}\n",
    "Find the student with Height > 6ft and Weight> 70kg:\n",
    "{'Omkar': (6.2, 70)} .**"
   ],
   "metadata": {
    "collapsed": false,
    "pycharm": {
     "name": "#%% md\n"
    }
   }
  },
  {
   "cell_type": "code",
   "execution_count": 4,
   "outputs": [
    {
     "name": "stdout",
     "output_type": "stream",
     "text": [
      "Original Dictionary:\n",
      "{'Omkar': (6.2, 70), 'Sohan': (5.9, 65), 'Yatin': (6.0, 68), 'Yash': (5.8, 66)}\n",
      "\n",
      "Height > 6ft and Weight> 70kg:\n",
      "{'Omkar': (6.2, 70)}\n"
     ]
    }
   ],
   "source": [
    "def filter_data(students):\n",
    "    result = {k: s for k, s in students.items() if s[0] >=6.0 and s[1] >=70}\n",
    "    return result\n",
    "\n",
    "students = {'Omkar': (6.2, 70), 'Sohan': (5.9, 65), 'Yatin': (6.0, 68), 'Yash': (5.8, 66)}\n",
    "print(\"Original Dictionary:\")\n",
    "print(students)\n",
    "print(\"\\nHeight > 6ft and Weight> 70kg:\")\n",
    "print(filter_data(students))"
   ],
   "metadata": {
    "collapsed": false,
    "pycharm": {
     "name": "#%%\n"
    }
   }
  },
  {
   "cell_type": "markdown",
   "source": [
    "**Q9. Write a Python program to remove a specified dictionary from a given list.\n",
    "[{'id': '#FF0000', 'color': 'Red'}, {'id': '#800000', 'color': 'Maroon'}, {'id': '#FFFF00', 'color': 'Yellow'}, {'id': '#808000', 'color': 'Olive'}]\n",
    "Remove id #FF0000 from the said list of dictionary:\n",
    "[{'id': '#800000', 'color': 'Maroon'}, {'id': '#FFFF00', 'color': 'Yellow'}, {'id': '#808000', 'color': 'Olive'}]**"
   ],
   "metadata": {
    "collapsed": false,
    "pycharm": {
     "name": "#%% md\n"
    }
   }
  },
  {
   "cell_type": "code",
   "execution_count": 5,
   "outputs": [
    {
     "name": "stdout",
     "output_type": "stream",
     "text": [
      "Original list of dictionary:\n",
      "[{'id': '#FF0000', 'color': 'Red'}, {'id': '#800000', 'color': 'Maroon'}, {'id': '#FFFF00', 'color': 'Yellow'}, {'id': '#808000', 'color': 'Olive'}]\n",
      "\n",
      "Remove id #FF0000 from the said list of dictionary:\n",
      "[{'id': '#800000', 'color': 'Maroon'}, {'id': '#FFFF00', 'color': 'Yellow'}, {'id': '#808000', 'color': 'Olive'}]\n"
     ]
    }
   ],
   "source": [
    "def remove_dictionary(colors, r_id):\n",
    "    colors[:] = [d for d in colors if d.get('id') != r_id]\n",
    "    return colors\n",
    "\n",
    "colors = [{\"id\" : \"#FF0000\", \"color\" : \"Red\"},\n",
    "          {\"id\" : \"#800000\", \"color\" : \"Maroon\"},\n",
    "          {\"id\" : \"#FFFF00\", \"color\" : \"Yellow\"},\n",
    "          {\"id\" : \"#808000\", \"color\" : \"Olive\"}]\n",
    "print('Original list of dictionary:')\n",
    "print(colors)\n",
    "r_id = \"#FF0000\"\n",
    "print(\"\\nRemove id\",r_id,\"from the said list of dictionary:\")\n",
    "print(remove_dictionary(colors, r_id))"
   ],
   "metadata": {
    "collapsed": false,
    "pycharm": {
     "name": "#%%\n"
    }
   }
  },
  {
   "cell_type": "markdown",
   "source": [
    "**Sample programs on Tuples**"
   ],
   "metadata": {
    "collapsed": false,
    "pycharm": {
     "name": "#%% md\n"
    }
   }
  },
  {
   "cell_type": "markdown",
   "source": [],
   "metadata": {
    "collapsed": false,
    "pycharm": {
     "name": "#%% md\n"
    }
   }
  },
  {
   "cell_type": "code",
   "execution_count": 3,
   "outputs": [
    {
     "name": "stdout",
     "output_type": "stream",
     "text": [
      "()\n",
      "(1, 2, 3)\n",
      "(1, 'Hello', 3.4)\n",
      "('mouse', [8, 4, 6], (1, 2, 3))\n"
     ]
    }
   ],
   "source": [
    "# Different types of tuples\n",
    "\n",
    "# Empty tuple\n",
    "my_tuple = ()\n",
    "print(my_tuple)\n",
    "\n",
    "# Tuple having integers\n",
    "my_tuple = (1, 2, 3)\n",
    "print(my_tuple)\n",
    "\n",
    "# tuple with mixed datatypes\n",
    "my_tuple = (1, \"Hello\", 3.4)\n",
    "print(my_tuple)\n",
    "\n",
    "# nested tuple\n",
    "my_tuple = (\"mouse\", [8, 4, 6], (1, 2, 3))\n",
    "print(my_tuple)"
   ],
   "metadata": {
    "collapsed": false,
    "pycharm": {
     "name": "#%%\n"
    }
   }
  },
  {
   "cell_type": "markdown",
   "source": [
    "**Q11. Write a python program to concatenate two tuples**"
   ],
   "metadata": {
    "collapsed": false,
    "pycharm": {
     "name": "#%% md\n"
    }
   }
  },
  {
   "cell_type": "code",
   "execution_count": 4,
   "outputs": [
    {
     "name": "stdout",
     "output_type": "stream",
     "text": [
      "Tuple 1: \n",
      "(0, 1, 2, 3)\n",
      "\n",
      "Tuple2: \n",
      "('Python', 'For', 'Beginners')\n",
      "\n",
      "Tuples after Concatenation: \n",
      "(0, 1, 2, 3, 'Python', 'For', 'Beginners')\n"
     ]
    }
   ],
   "source": [
    "# Concatenation of tuples\n",
    "Tuple1 = (0, 1, 2, 3)\n",
    "Tuple2 = ('Python', 'For', 'Beginners')\n",
    "\n",
    "Tuple3 = Tuple1 + Tuple2\n",
    "\n",
    "# Printing first Tuple\n",
    "print(\"Tuple 1: \")\n",
    "print(Tuple1)\n",
    "\n",
    "# Printing Second Tuple\n",
    "print(\"\\nTuple2: \")\n",
    "print(Tuple2)\n",
    "\n",
    "# Printing Final Tuple\n",
    "print(\"\\nTuples after Concatenation: \")\n",
    "print(Tuple3)"
   ],
   "metadata": {
    "collapsed": false,
    "pycharm": {
     "name": "#%%\n"
    }
   }
  },
  {
   "cell_type": "markdown",
   "source": [
    "**Q12. Write a Python program to get the 4th element and 4th element from last of a tuple**"
   ],
   "metadata": {
    "collapsed": false,
    "pycharm": {
     "name": "#%% md\n"
    }
   }
  },
  {
   "cell_type": "code",
   "execution_count": 8,
   "outputs": [
    {
     "name": "stdout",
     "output_type": "stream",
     "text": [
      "The original tuple is  ('p', 'y', 't', 'h', 'o', 'n', ' ', 'P', 'r', 'o', 'g', 'r', 'a', 'm')\n",
      "h\n",
      "g\n"
     ]
    }
   ],
   "source": [
    "#Get an item of the tuple\n",
    "tuplex = (\"p\", \"y\", \"t\", \"h\", \"o\", \"n\", \" \", \"P\", \"r\", \"o\",\"g\", \"r\", \"a\", \"m\")\n",
    "print(\"The original tuple is \",tuplex)\n",
    "#Get item (4th element)of the tuple by index\n",
    "item = tuplex[3]\n",
    "print(item)\n",
    "#Get item (4th element from last)by index negative\n",
    "item1 = tuplex[-4]\n",
    "print(item1)"
   ],
   "metadata": {
    "collapsed": false,
    "pycharm": {
     "name": "#%%\n"
    }
   }
  },
  {
   "cell_type": "markdown",
   "source": [
    "**Q13. Write a Python program to reverse the contents of a tuple.**"
   ],
   "metadata": {
    "collapsed": false,
    "pycharm": {
     "name": "#%% md\n"
    }
   }
  },
  {
   "cell_type": "code",
   "execution_count": 9,
   "outputs": [
    {
     "name": "stdout",
     "output_type": "stream",
     "text": [
      "('g', 'n', 'i', 'm', 'm', 'a', 'r', 'g', 'o', 'r', 'P', ' ', 'n', 'o', 'h', 't', 'y', 'P')\n",
      "(20, 15, 10, 5)\n"
     ]
    }
   ],
   "source": [
    "#create a tuple\n",
    "x = (\"Python Programming\")\n",
    "# Reversed the tuple\n",
    "y = reversed(x)\n",
    "print(tuple(y))\n",
    "#create another tuple\n",
    "x = (5, 10, 15, 20)\n",
    "# Reversed the tuple\n",
    "y = reversed(x)\n",
    "print(tuple(y))"
   ],
   "metadata": {
    "collapsed": false,
    "pycharm": {
     "name": "#%%\n"
    }
   }
  },
  {
   "cell_type": "markdown",
   "source": [
    "**Q14. Write a Python program to test if a variable is a list or tuple or a set.**"
   ],
   "metadata": {
    "collapsed": false,
    "pycharm": {
     "name": "#%% md\n"
    }
   }
  },
  {
   "cell_type": "code",
   "execution_count": 10,
   "outputs": [
    {
     "name": "stdout",
     "output_type": "stream",
     "text": [
      "x is a tuple\n"
     ]
    }
   ],
   "source": [
    "#x = ['a', 'b', 'c', 'd']\n",
    "#x = {'a', 'b', 'c', 'd'}\n",
    "x = ('tuple', False, 3.2, 1)\n",
    "if type(x) is list:\n",
    "    print('x is a list')\n",
    "elif type(x) is set:\n",
    "    print('x is a set')\n",
    "elif type(x) is tuple:\n",
    "    print('x is a tuple')\n",
    "else:\n",
    "    print('Neither a list or a set or a tuple.')"
   ],
   "metadata": {
    "collapsed": false,
    "pycharm": {
     "name": "#%%\n"
    }
   }
  },
  {
   "cell_type": "markdown",
   "source": [
    "**Q15. Write a python program to create a nested tuple to store roll number, name and marks of students**"
   ],
   "metadata": {
    "collapsed": false,
    "pycharm": {
     "name": "#%% md\n"
    }
   }
  },
  {
   "cell_type": "code",
   "execution_count": 12,
   "outputs": [
    {
     "name": "stdout",
     "output_type": "stream",
     "text": [
      "S_No  Roll_No  Name  Marks\n",
      "1 \t 101 \t Aman \t 98\n",
      "2 \t 102 \t Geet \t 95\n",
      "3 \t 103 \t Sahil \t 87\n",
      "4 \t 104 \t Pawan \t 79\n"
     ]
    }
   ],
   "source": [
    "st=((101,\"Aman\",98),(102,\"Geet\",95),(103,\"Sahil\",87),(104,\"Pawan\",79))\n",
    "print(\"S_No\",\" Roll_No\",\" Name\",\" Marks\")\n",
    "for i in range(0,len(st)):\n",
    "    print((i+1),'\\t',st[i][0],'\\t',st[i][1],'\\t',st[i][2])"
   ],
   "metadata": {
    "collapsed": false,
    "pycharm": {
     "name": "#%%\n"
    }
   }
  },
  {
   "cell_type": "markdown",
   "source": [
    "**Q16.Write a program to input n numbers from the user. Store these numbers in a tuple. Print the maximum and minimum number from this tuple.**"
   ],
   "metadata": {
    "collapsed": false,
    "pycharm": {
     "name": "#%% md\n"
    }
   }
  },
  {
   "cell_type": "code",
   "execution_count": 16,
   "outputs": [
    {
     "name": "stdout",
     "output_type": "stream",
     "text": [
      "\n",
      "The numbers in the tuple are:\n",
      "(11, 99, 33, 77, 66)\n",
      "\n",
      "The maximum number is:\n",
      "99\n",
      "The minimum number is:\n",
      "11\n"
     ]
    }
   ],
   "source": [
    "numbers = tuple() #create an empty tuple 'numbers'\n",
    "n = int(input(\"How many numbers you want to enter?: \"))\n",
    "for i in range(0,n):\n",
    "    num = int(input())\n",
    " #it will assign numbers entered by user to tuple 'numbers'\n",
    "    numbers = numbers +(num,)\n",
    "print('\\nThe numbers in the tuple are:')\n",
    "print(numbers)\n",
    "print(\"\\nThe maximum number is:\")\n",
    "print(max(numbers))\n",
    "print(\"The minimum number is:\")\n",
    "print(min(numbers))"
   ],
   "metadata": {
    "collapsed": false,
    "pycharm": {
     "name": "#%%\n"
    }
   }
  },
  {
   "cell_type": "markdown",
   "source": [
    "**Q17. Write the Python program to sort the elements of the given tuple**"
   ],
   "metadata": {
    "collapsed": false,
    "pycharm": {
     "name": "#%% md\n"
    }
   }
  },
  {
   "cell_type": "code",
   "execution_count": 17,
   "outputs": [
    {
     "name": "stdout",
     "output_type": "stream",
     "text": [
      "The tuple is - (12, 2, 5, 90, 30, 40, 3)\n",
      "Increasing order of the tuple is - [2, 3, 5, 12, 30, 40, 90]\n",
      "Decreasing order of the tuple is - [90, 40, 30, 12, 5, 3, 2]\n"
     ]
    }
   ],
   "source": [
    "\n",
    "my_tuple = (12, 2, 5, 90, 30, 40, 3)\n",
    "print(f'The tuple is - {my_tuple}')\n",
    "result_tuple = sorted(my_tuple)\n",
    "print(f'Increasing order of the tuple is - {result_tuple}')\n",
    "result_tuple = sorted(my_tuple, reverse=True)\n",
    "print(f'Decreasing order of the tuple is - {result_tuple}')"
   ],
   "metadata": {
    "collapsed": false,
    "pycharm": {
     "name": "#%%\n"
    }
   }
  },
  {
   "cell_type": "markdown",
   "source": [
    "**Python File Handling Programs**"
   ],
   "metadata": {
    "collapsed": false,
    "pycharm": {
     "name": "#%% md\n"
    }
   }
  },
  {
   "cell_type": "markdown",
   "source": [
    "**Q18. Write a Python program to create a text file “intro.txt” in python and ask the user to write a single line of text by user input.**"
   ],
   "metadata": {
    "collapsed": false,
    "pycharm": {
     "name": "#%% md\n"
    }
   }
  },
  {
   "cell_type": "code",
   "execution_count": 18,
   "outputs": [],
   "source": [
    "def program1():\n",
    "    f = open(\"intro.txt\",\"w\")\n",
    "    text=input(\"Enter the text:\")\n",
    "    f.write(text)\n",
    "    f.close()\n",
    "program1()"
   ],
   "metadata": {
    "collapsed": false,
    "pycharm": {
     "name": "#%%\n"
    }
   }
  },
  {
   "cell_type": "markdown",
   "source": [
    "**Q19. Write a python program to create a text file “MyFile.txt” in python and ask the user to write separate 3 lines with three input statements from the user.**"
   ],
   "metadata": {
    "collapsed": false,
    "pycharm": {
     "name": "#%% md\n"
    }
   }
  },
  {
   "cell_type": "code",
   "execution_count": 19,
   "outputs": [],
   "source": [
    "def program2():\n",
    "    f = open(\"MyFile.txt\",\"w\")\n",
    "    line1=input(\"Enter the text:\")\n",
    "    line2=input(\"Enter the text:\")\n",
    "    line3=input(\"Enter the text:\")\n",
    "    new_line=\"\\n\"\n",
    "    f.write(line1)\n",
    "    f.write(new_line)\n",
    "    f.write(line2)\n",
    "    f.write(new_line)\n",
    "    f.write(line3)\n",
    "    f.write(new_line)\n",
    "    f.close()\n",
    "program2()"
   ],
   "metadata": {
    "collapsed": false,
    "pycharm": {
     "name": "#%%\n"
    }
   }
  },
  {
   "cell_type": "markdown",
   "source": [
    "**Q20. Write a python program to read the contents of both the files created in the above programs and merge the contents into “merge.txt”. Avoid using the close() function to close the files.**"
   ],
   "metadata": {
    "collapsed": false,
    "pycharm": {
     "name": "#%% md\n"
    }
   }
  },
  {
   "cell_type": "code",
   "execution_count": 20,
   "outputs": [],
   "source": [
    "def program3():\n",
    "    with open(\"MyFile.txt\",\"r\") as f1:\n",
    "       data=f1.read()\n",
    "    with open(\"intro.txt\",\"r\") as f2:\n",
    "        data1=f2.read()\n",
    "    with open(\"merge.txt\",\"w\") as f3:\n",
    "        f3.write(data)\n",
    "        f3.write(data1)\n",
    "program3()"
   ],
   "metadata": {
    "collapsed": false,
    "pycharm": {
     "name": "#%%\n"
    }
   }
  },
  {
   "cell_type": "markdown",
   "source": [
    "**Q21. Write a python program to count the total number of upper case, lower case, and digits used in the text file “merge.txt”.**"
   ],
   "metadata": {
    "collapsed": false,
    "pycharm": {
     "name": "#%% md\n"
    }
   }
  },
  {
   "cell_type": "code",
   "execution_count": 21,
   "outputs": [
    {
     "name": "stdout",
     "output_type": "stream",
     "text": [
      "Total Number of Upper Case letters are: 6\n",
      "Total Number of Lower Case letters are: 29\n",
      "Total Number of  digits are: 3\n"
     ]
    }
   ],
   "source": [
    "def program4():\n",
    "    with open(\"merge.txt\",\"r\") as f1:\n",
    "       data=f1.read()\n",
    "    cnt_ucase =0\n",
    "    cnt_lcase=0\n",
    "    cnt_digits=0\n",
    "    for ch in data:\n",
    "        if ch.islower():\n",
    "            cnt_lcase+=1\n",
    "        if ch.isupper():\n",
    "            cnt_ucase+=1\n",
    "        if ch.isdigit():\n",
    "            cnt_digits+=1\n",
    "    print(\"Total Number of Upper Case letters are:\",cnt_ucase)\n",
    "    print(\"Total Number of Lower Case letters are:\",cnt_lcase)\n",
    "    print(\"Total Number of  digits are:\",cnt_digits)\n",
    "program4()"
   ],
   "metadata": {
    "collapsed": false,
    "pycharm": {
     "name": "#%%\n"
    }
   }
  },
  {
   "cell_type": "markdown",
   "source": [
    "**Q22.  Write a python program to count a total number of lines and count the total number of lines starting with ‘A’, ‘B’, and ‘C’. (Consider the merge.txt file)**"
   ],
   "metadata": {
    "collapsed": false,
    "pycharm": {
     "name": "#%% md\n"
    }
   }
  },
  {
   "cell_type": "code",
   "execution_count": 24,
   "outputs": [
    {
     "name": "stdout",
     "output_type": "stream",
     "text": [
      "Total Number of lines are: 4\n",
      "Total Number of lines strating with A are: 0\n",
      "Total Number of lines strating with B are: 0\n",
      "Total Number of lines strating with C are: 0\n"
     ]
    }
   ],
   "source": [
    "def program5():\n",
    "    with open(\"merge.txt\",\"r\") as f1:\n",
    "       data=f1.readlines()\n",
    "    cnt_lines=0\n",
    "    cnt_A=0\n",
    "    cnt_B=0\n",
    "    cnt_C=0\n",
    "    for lines in data:\n",
    "        cnt_lines+=1\n",
    "        if lines[0]=='A':\n",
    "            cnt_A+=1\n",
    "        if lines[0]=='B':\n",
    "            cnt_B+=1\n",
    "        if lines[0]=='C':\n",
    "            cnt_C+=1\n",
    "    print(\"Total Number of lines are:\",cnt_lines)\n",
    "    print(\"Total Number of lines strating with A are:\",cnt_A)\n",
    "    print(\"Total Number of lines strating with B are:\",cnt_B)\n",
    "    print(\"Total Number of lines strating with C are:\",cnt_C)\n",
    "program5()"
   ],
   "metadata": {
    "collapsed": false,
    "pycharm": {
     "name": "#%%\n"
    }
   }
  },
  {
   "cell_type": "markdown",
   "source": [
    "**Q23. write a python program to find the total occurrences of a specific word from a text file:**"
   ],
   "metadata": {
    "collapsed": false,
    "pycharm": {
     "name": "#%% md\n"
    }
   }
  },
  {
   "cell_type": "code",
   "execution_count": 25,
   "outputs": [
    {
     "name": "stdout",
     "output_type": "stream",
     "text": [
      "Veena found  1  times from the file\n"
     ]
    }
   ],
   "source": [
    "def program6():\n",
    "    cnt = 0\n",
    "    word_search = input(\"Enter the words to search:\")\n",
    "    with open(\"merge.txt\",\"r\") as f1:\n",
    "        for data in f1:\n",
    "            words = data.split()\n",
    "            for word in words:\n",
    "                if (word == word_search):\n",
    "                    cnt+=1\n",
    "    print(word_search, \"found \", cnt, \" times from the file\")\n",
    "program6()"
   ],
   "metadata": {
    "collapsed": false,
    "pycharm": {
     "name": "#%%\n"
    }
   }
  },
  {
   "cell_type": "markdown",
   "source": [
    "**Q24. Write a python program to read first n no. letters from a text file, read the first line, read a specific line from a text file.**"
   ],
   "metadata": {
    "collapsed": false,
    "pycharm": {
     "name": "#%% md\n"
    }
   }
  },
  {
   "cell_type": "code",
   "execution_count": 28,
   "outputs": [
    {
     "name": "stdout",
     "output_type": "stream",
     "text": [
      "The first line of file: Program1\n",
      "\n",
      "First n no. of characters: Pr\n",
      "Line n: My name is Veena A\n"
     ]
    }
   ],
   "source": [
    "def program7():\n",
    "    cnt = 0\n",
    "    n = int(input(\"Enter no. characters to read:\"))\n",
    "    with open(\"merge.txt\",\"r\") as f1:\n",
    "       line1=f1.readline()\n",
    "       print(\"The first line of file:\",line1)\n",
    "       nchar=f1.read(n)\n",
    "       print(\"First n no. of characters:\", nchar)\n",
    "       nline=f1.readlines()\n",
    "       print(\"Line n:\",nline[n])\n",
    "program7()"
   ],
   "metadata": {
    "collapsed": false,
    "pycharm": {
     "name": "#%%\n"
    }
   }
  },
  {
   "cell_type": "markdown",
   "source": [
    "**Q25. Write a python program to replace all spaces from text file with a – (dash).**"
   ],
   "metadata": {
    "collapsed": false,
    "pycharm": {
     "name": "#%% md\n"
    }
   }
  },
  {
   "cell_type": "code",
   "execution_count": 30,
   "outputs": [],
   "source": [
    "def program8():\n",
    "    cnt = 0\n",
    "    n = int(input(\"Enter no. characters to read:\"))\n",
    "    with open(\"merge.txt\",\"r\") as f1:\n",
    "       data = f1.read()\n",
    "       data=data.replace(' ','-')\n",
    "    with open(\"merge.txt\",\"w\") as f1:\n",
    "        f1.write(data)\n",
    "program8()"
   ],
   "metadata": {
    "collapsed": false,
    "pycharm": {
     "name": "#%%\n"
    }
   }
  },
  {
   "cell_type": "markdown",
   "source": [
    "**Q26. Write a program to know the cursor position and print the text according to below-given specifications:\n",
    "1.Print the initial position\n",
    "2.Move the cursor to 4th position\n",
    "3.Display next 5 characters\n",
    "4.Move the cursor to the next 10 characters\n",
    "5.Print the current cursor position\n",
    "6.Print next 10 characters from the current cursor position.**"
   ],
   "metadata": {
    "collapsed": false,
    "pycharm": {
     "name": "#%% md\n"
    }
   }
  },
  {
   "cell_type": "code",
   "execution_count": 31,
   "outputs": [
    {
     "name": "stdout",
     "output_type": "stream",
     "text": [
      "0\n",
      "ram1\n",
      "\n",
      "10\n",
      "7\n",
      "1\n",
      "Program2\n"
     ]
    }
   ],
   "source": [
    "def program9():\n",
    "    f = open(\"merge.txt\",\"r\")\n",
    "    print(f.tell())\n",
    "    f.seek(4,0)\n",
    "    print(f.read(5))\n",
    "    f.seek(10,0)\n",
    "    print(f.tell())\n",
    "    print(f.seek(7,0))\n",
    "    print(f.read(10))\n",
    "program9()"
   ],
   "metadata": {
    "collapsed": false,
    "pycharm": {
     "name": "#%%\n"
    }
   }
  },
  {
   "cell_type": "markdown",
   "source": [
    "**Q27. Write a python program to append the contents in entered by the user in the text file:**"
   ],
   "metadata": {
    "collapsed": false,
    "pycharm": {
     "name": "#%% md\n"
    }
   }
  },
  {
   "cell_type": "code",
   "execution_count": 32,
   "outputs": [],
   "source": [
    "def program10():\n",
    "    text = input(\"Enter text to append in the file:\")\n",
    "    with open(\"merge.txt\",\"a\") as f1:\n",
    "        f1.write(text)\n",
    "program10()"
   ],
   "metadata": {
    "collapsed": false,
    "pycharm": {
     "name": "#%%\n"
    }
   }
  },
  {
   "cell_type": "markdown",
   "source": [
    " **Q28. Write a python program to read the contents of file in reverse order**"
   ],
   "metadata": {
    "collapsed": false,
    "pycharm": {
     "name": "#%% md\n"
    }
   }
  },
  {
   "cell_type": "code",
   "execution_count": 33,
   "outputs": [
    {
     "name": "stdout",
     "output_type": "stream",
     "text": [
      "My-name-is-Veena-AWelcome to the World of Programming\n",
      "Program3\n",
      "Program2\n",
      "Program1\n"
     ]
    }
   ],
   "source": [
    "def program11():\n",
    "    for i in reversed(list(open(\"merge.txt\",\"r\"))):\n",
    "        print(i.rstrip())\n",
    "program11()"
   ],
   "metadata": {
    "collapsed": false,
    "pycharm": {
     "name": "#%%\n"
    }
   }
  },
  {
   "cell_type": "markdown",
   "source": [
    "**Q29. Write a python program to replace multiple spaces with single space in a text file.**"
   ],
   "metadata": {
    "collapsed": false,
    "pycharm": {
     "name": "#%% md\n"
    }
   }
  },
  {
   "cell_type": "code",
   "execution_count": 35,
   "outputs": [],
   "source": [
    "def program12():\n",
    "    f1 = open(\"merge.txt\",\"rt\")\n",
    "    f2 = open(\"merge1.txt\",\"wt\")\n",
    "    for line in f1:\n",
    "        f2.write(' '.join(line.split()))\n",
    "    f1.close()\n",
    "    f2.close()\n",
    "program12()"
   ],
   "metadata": {
    "collapsed": false,
    "pycharm": {
     "name": "#%%\n"
    }
   }
  },
  {
   "cell_type": "code",
   "execution_count": null,
   "outputs": [],
   "source": [],
   "metadata": {
    "collapsed": false,
    "pycharm": {
     "name": "#%%\n"
    }
   }
  }
 ],
 "metadata": {
  "kernelspec": {
   "display_name": "Python 3",
   "language": "python",
   "name": "python3"
  },
  "language_info": {
   "codemirror_mode": {
    "name": "ipython",
    "version": 2
   },
   "file_extension": ".py",
   "mimetype": "text/x-python",
   "name": "python",
   "nbconvert_exporter": "python",
   "pygments_lexer": "ipython2",
   "version": "2.7.6"
  }
 },
 "nbformat": 4,
 "nbformat_minor": 0
}