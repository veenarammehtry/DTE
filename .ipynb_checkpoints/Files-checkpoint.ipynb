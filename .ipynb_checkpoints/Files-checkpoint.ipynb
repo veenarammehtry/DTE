{
 "cells": [
  {
   "cell_type": "code",
   "execution_count": 65,
   "metadata": {},
   "outputs": [
    {
     "name": "stdout",
     "output_type": "stream",
     "text": [
      "Printing each line in text file\n",
      "Ancient Egypt was an ancient civilization of eastern North Africa, concentrated along the lower reaches of the Nile River.\n",
      "\n",
      "The civilization coalesced around 3150 BC with the political unification of Upper and Lower Egypt under the first pharaoh.\n",
      "\n",
      "Ancient Egypt reached its pinnacle during the New Kingdom, after which it entered a period of slow decline.\n"
     ]
    }
   ],
   "source": [
    "# Program 9.1: Write Python Program to Read and Print Each Line in \"egypt. txt\" file.\n",
    "# Sample Content of \"egypt.txt\" File is Given Below.\n",
    "\n",
    "\n",
    "def read_file():\n",
    "    file_handler = open(\"egypt.txt\")\n",
    "    print(\"Printing each line in text file\")\n",
    "    for each_line in file_handler:\n",
    "        print(each_line)\n",
    "    file_handler.close()\n",
    "\n",
    "\n",
    "def main():\n",
    "    read_file()\n",
    "\n",
    "\n",
    "if __name__ == \"__main__\":\n",
    "    main()"
   ]
  },
  {
   "cell_type": "code",
   "execution_count": 66,
   "metadata": {},
   "outputs": [
    {
     "name": "stdout",
     "output_type": "stream",
     "text": [
      "Printing each line in text file\n",
      "National Treasures of Japan are the most precious of Japan's Tangible Cultural Properties.\n",
      "A Tangible Cultural Property is considered to be of historic or artistic value, classified either as\n",
      "\"buildings and structures\", or as \"fine arts and crafts\".\n"
     ]
    }
   ],
   "source": [
    "# Program 9.2: Program to Read and Print Each Line in \"japan.txt\" File Using\n",
    "# with Statement. Sample Content of \"japan.txt\" File is Given Below.\n",
    "\n",
    "\n",
    "def read_file():\n",
    "    print(\"Printing each line in text file\")\n",
    "    with open(\"japan.txt\") as file_handler:\n",
    "        for each_line in file_handler:\n",
    "            print(each_line.strip())\n",
    "\n",
    "\n",
    "def main():\n",
    "    read_file()\n",
    "\n",
    "\n",
    "if __name__ == \"__main__\":\n",
    "    main()"
   ]
  },
  {
   "cell_type": "code",
   "execution_count": 67,
   "metadata": {},
   "outputs": [
    {
     "name": "stdout",
     "output_type": "stream",
     "text": [
      "Print entire file contents\n",
      "Ancient Rome was a civilization which began on the Italian Peninsula in the 8th century BC.\n",
      "The Roman Emperors were monarchial rulers of the Roman State.\n",
      "The Emperor was supreme ruler of Rome.\n",
      "Rome remained a republic."
     ]
    }
   ],
   "source": [
    "# Program 9.3: Write Python Program to Read \"rome.txt\" File Using\n",
    "# read() Method. Sample Content of \"rome.txt\" File is Given Below\n",
    "\n",
    "\n",
    "def main():\n",
    "    with open(\"rome.txt\") as file_handler:\n",
    "        print(\"Print entire file contents\")\n",
    "        print(file_handler.read(), end=\"\")\n",
    "        #print(file_handler.read(13), end=\"\")\n",
    "\n",
    "\n",
    "if __name__ == \"__main__\":\n",
    "    main()"
   ]
  },
  {
   "cell_type": "code",
   "execution_count": null,
   "metadata": {},
   "outputs": [],
   "source": []
  },
  {
   "cell_type": "code",
   "execution_count": 68,
   "metadata": {},
   "outputs": [
    {
     "name": "stdout",
     "output_type": "stream",
     "text": [
      "Print a single line from the file\n",
      "Ancient Rome was a civilization which began on the Italian Peninsula in the 8th century BC.\n",
      "Print another single line from the file\n",
      "The Roman Emperors were monarchial rulers of the Roman State.\n"
     ]
    }
   ],
   "source": [
    "# Program 9.4: Consider the \"rome.txt\" File Specified in Program 9.3. Write\n",
    "# Python Program to Read \"rome.txt\" file Using readline() Method\n",
    "\n",
    "\n",
    "def main():\n",
    "    with open(\"rome.txt\") as file_handler:\n",
    "        print(\"Print a single line from the file\")\n",
    "        print(file_handler.readline(), end=\"\")\n",
    "        print(\"Print another single line from the file\")\n",
    "        print(file_handler.readline(), end=\"\")\n",
    "\n",
    "\n",
    "if __name__ == \"__main__\":\n",
    "    main()"
   ]
  },
  {
   "cell_type": "code",
   "execution_count": 69,
   "metadata": {},
   "outputs": [
    {
     "name": "stdout",
     "output_type": "stream",
     "text": [
      "Print file contents as a list\n",
      "['Ancient Rome was a civilization which began on the Italian Peninsula in the 8th century BC.\\n', 'The Roman Emperors were monarchial rulers of the Roman State.\\n', 'The Emperor was supreme ruler of Rome.\\n', 'Rome remained a republic.']\n"
     ]
    }
   ],
   "source": [
    "# Program 9.5: Consider the \"rome.txt\" File Specified in Program 9.3. Write\n",
    "# Python Program to Read \"rome.txt\" File Using readlines() Method\n",
    "\n",
    "\n",
    "def main():\n",
    "    with open(\"rome.txt\") as file_handler:\n",
    "        print(\"Print file contents as a list\")\n",
    "        print(file_handler.readlines())\n",
    "\n",
    "\n",
    "if __name__ == \"__main__\":\n",
    "    main()"
   ]
  },
  {
   "cell_type": "code",
   "execution_count": 70,
   "metadata": {},
   "outputs": [
    {
     "name": "stdout",
     "output_type": "stream",
     "text": [
      "print(\"This is a sample program\")\n",
      "print(\"Python is a very versatile language\")"
     ]
    }
   ],
   "source": [
    "# Program 9.6: Consider \"Sample_Program.py\" Python file. Write Python program\n",
    "# to remove the comment character from all the lines in a given Python source\n",
    "# file. Sample content of \"Sample_Program.py\" Python file is given below\n",
    "\n",
    "\n",
    "def main():\n",
    "    with open(\"Sample_Program.py\") as file_handler:\n",
    "        for each_row in file_handler:\n",
    "            each_row = each_row.replace(\"#\", \"\")\n",
    "            print(each_row, end=\"\")\n",
    "            # ind = each_row.find(\"#\")\n",
    "            # each_row = each_row.strip[each_row[ind]]\n",
    "            # print(each_row)\n",
    "\n",
    "\n",
    "if __name__ == \"__main__\":\n",
    "    main()"
   ]
  },
  {
   "cell_type": "code",
   "execution_count": 71,
   "metadata": {},
   "outputs": [
    {
     "name": "stdout",
     "output_type": "stream",
     "text": [
      "terceS seiteicoS\n",
      "snosameerF itanimullI\n",
      "snaicurcisoR grebredliB sthginK ralpmeT\n"
     ]
    }
   ],
   "source": [
    "# Program 9.7: Write Python Program to Reverse Each Word in \"secret_societies.txt\" file.\n",
    "# Sample Content of \"secret_societies.txt\" is Given Below\n",
    "\n",
    "\n",
    "def main():\n",
    "    reversed_word_list = []\n",
    "    with open(\"secret_societies.txt\") as file_handler:\n",
    "        for each_row in file_handler:\n",
    "            word_list = each_row.rstrip().split(\" \")\n",
    "            for each_word in word_list:\n",
    "                reversed_word_list.append(each_word[::-1])\n",
    "            print(\" \".join(reversed_word_list))\n",
    "            reversed_word_list.clear()\n",
    "\n",
    "\n",
    "if __name__ == \"__main__\":\n",
    "    main()"
   ]
  },
  {
   "cell_type": "code",
   "execution_count": 72,
   "metadata": {},
   "outputs": [
    {
     "name": "stdout",
     "output_type": "stream",
     "text": [
      "The number of times each word appears in a sentence is\n",
      "{'Happiness': 1, 'is': 2, 'the': 1, 'longing': 1, 'for': 2, 'repetition.': 1, 'Artificial': 1, 'intelligence': 1, 'no': 1, 'match': 1, 'natural': 1, 'stupidity.': 1}\n",
      "Total number of words in the file are 14\n"
     ]
    }
   ],
   "source": [
    "# Program 9.8: Write Python Program to Count the Occurrences of Each Word\n",
    "# and Also Count the Number of Words in a \"quotes.txt\" File. Sample\n",
    "# Content of \"quotes.txt\" File is Given Below\n",
    "\n",
    "\n",
    "def main():\n",
    "    occurrence_of_words = dict()\n",
    "    total_words = 0\n",
    "    with open(\"quotes.txt\") as file_handler:\n",
    "        for each_row in file_handler:\n",
    "            words = each_row.rstrip().split()\n",
    "            total_words += len(words)\n",
    "            for each_word in words:\n",
    "                occurrence_of_words[each_word] = occurrence_of_words.get(each_word, 0) + 1\n",
    "        print(\"The number of times each word appears in a sentence is\")\n",
    "        print(occurrence_of_words)\n",
    "        print(f\"Total number of words in the file are {total_words}\")\n",
    "\n",
    "\n",
    "if __name__ == \"__main__\":\n",
    "    main()"
   ]
  },
  {
   "cell_type": "code",
   "execution_count": 73,
   "metadata": {},
   "outputs": [
    {
     "name": "stdout",
     "output_type": "stream",
     "text": [
      "Enter file name: rome.txt\n",
      "The longest word in the file is civilization\n"
     ]
    }
   ],
   "source": [
    "# Program 9.9: Write Python Program to Find the Longest Word in a File. Get the File\n",
    "# Name from User. (Assume User Enters the File Name as \"animals.txt\" and its\n",
    "# Sample Contents are as Below)\n",
    "\n",
    "\n",
    "def read_file(file_name):\n",
    "    with open(file_name) as file_handler:\n",
    "        longest_word = \"\"\n",
    "        for each_row in file_handler:\n",
    "            word_list = each_row.rstrip().split()\n",
    "            for each_word in word_list:\n",
    "                if len(each_word) > len(longest_word):\n",
    "                    longest_word = each_word\n",
    "    print(f\"The longest word in the file is {longest_word}\")\n",
    "\n",
    "\n",
    "def main():\n",
    "    file_name = input(\"Enter file name: \")\n",
    "    read_file(file_name)\n",
    "\n",
    "\n",
    "if __name__ == \"__main__\":\n",
    "    main()"
   ]
  },
  {
   "cell_type": "code",
   "execution_count": 74,
   "metadata": {},
   "outputs": [],
   "source": [
    "# Program 9.10: Write Python Program to Create a New Image from an Existing Image\n",
    "\n",
    "\n",
    "def main():\n",
    "    with open(\"rose.jpg\", \"rb\") as existing_image, open(\"new_rose.jpg\", \"wb\") as new_image:\n",
    "        for each_line_bytes in existing_image:\n",
    "            new_image.write(each_line_bytes)\n",
    "\n",
    "\n",
    "if __name__ == \"__main__\":\n",
    "    main()"
   ]
  },
  {
   "cell_type": "code",
   "execution_count": 75,
   "metadata": {},
   "outputs": [
    {
     "name": "stdout",
     "output_type": "stream",
     "text": [
      "Print each byte in the file\n",
      "b'a'\n",
      "b'b'\n",
      "b'c'\n",
      "b'd'\n",
      "b'e'\n",
      "b'f'\n"
     ]
    }
   ],
   "source": [
    "# Program 9.11: Consider a File Called \"workfile\". Write Python Program to Read and\n",
    "# Print Each Byte in the Binary File\n",
    "\n",
    "\n",
    "def main():\n",
    "    with open(\"workfile\", \"wb\") as f:\n",
    "        f.write(b'abcdef')\n",
    "\n",
    "    with open(\"workfile\", \"rb\") as f:\n",
    "        byte = f.read(1)\n",
    "        print(\"Print each byte in the file\")\n",
    "        while byte:\n",
    "            print(byte)\n",
    "            byte = f.read(1)\n",
    "\n",
    "\n",
    "if __name__ == \"__main__\":\n",
    "    main()"
   ]
  },
  {
   "cell_type": "code",
   "execution_count": 76,
   "metadata": {},
   "outputs": [
    {
     "name": "stdout",
     "output_type": "stream",
     "text": [
      "Unpickling {'cooper': 'sheldon'}\n"
     ]
    }
   ],
   "source": [
    "# Program 9.12: Write Python Program to Save Dictionary in Python Pickle\n",
    "\n",
    "import pickle\n",
    "\n",
    "\n",
    "def main():\n",
    "    bbt = {'cooper': 'sheldon'}\n",
    "    with open('filename.pickle', 'wb') as handle:\n",
    "        pickle.dump(bbt, handle)\n",
    "    with open('filename.pickle', 'rb') as handle:\n",
    "        bbt = pickle.load(handle)\n",
    "        print(f\"Unpickling {bbt}\")\n",
    "\n",
    "\n",
    "if __name__ == \"__main__\":\n",
    "    main()"
   ]
  },
  {
   "cell_type": "code",
   "execution_count": 77,
   "metadata": {},
   "outputs": [
    {
     "name": "stdout",
     "output_type": "stream",
     "text": [
      "Print each row in CSV file\n",
      "Name,     \"Sex\", \"Age\", \"Height (in)\", \"Weight (lbs)\"\n",
      "Alex,       \"M\",   41,       74,      170\n",
      "Bert,       \"M\",   42,       68,      166\n",
      "Carl,       \"M\",   32,       70,      155\n",
      "Dave,       \"M\",   39,       72,      167\n",
      "Elly,       \"F\",   30,       66,      124\n",
      "Fran,       \"F\",   33,       66,      115\n",
      "Gwen,       \"F\",   26,       64,      121\n",
      "Hank,       \"M\",   30,       71,      158\n",
      "Ivan,       \"M\",   53,       72,      175\n",
      "Jake,       \"M\",   32,       69,      143\n",
      "Kate,       \"F\",   47,       69,      139\n",
      "Luke,       \"M\",   34,       72,      163\n",
      "Myra,       \"F\",   23,       62,       98\n",
      "Neil,       \"M\",   36,       75,      160\n",
      "Omar,       \"M\",   38,       70,      145\n",
      "Page,       \"F\",   31,       67,      135\n",
      "Quin,       \"M\",   29,       71,      176\n",
      "Ruth,       \"F\",   28,       65,      131\n",
      "\n"
     ]
    }
   ],
   "source": [
    "# Program 9.13: Write Python program to read and display each row in\n",
    "# \"biostats.csv\" CSV file. Sample content of \"biostats.csv\" is given below.\n",
    "\n",
    "import csv\n",
    "\n",
    "\n",
    "def main():\n",
    "    with open('biostats.csv', newline='') as csvfile:\n",
    "        csv_reader = csv.reader(csvfile)\n",
    "        print(\"Print each row in CSV file\")\n",
    "        for each_row in csv_reader:\n",
    "            #print(f'{\",\".join(each_row)}')\n",
    "            print(\",\".join(each_row))\n",
    "\n",
    "\n",
    "if __name__ == \"__main__\":\n",
    "    main()"
   ]
  },
  {
   "cell_type": "code",
   "execution_count": 78,
   "metadata": {},
   "outputs": [
    {
     "name": "stdout",
     "output_type": "stream",
     "text": [
      "Print rows in CSV file that start with employee name 'Jerry'\n",
      "Jerry,Male,01-10-2004,12:56 PM,95734,19.096,FALSE,Client Services\n",
      "Jerry,Male,03-04-2005,1:00 PM,138705,9.34,TRUE,Finance\n"
     ]
    }
   ],
   "source": [
    "# Program 9.14: Write Python program to read and display rows in \"employees.csv\" CSV file\n",
    "# that start with employee name \"Jerry\". Sample content of \"employees.csv\" is given below\n",
    "\n",
    "import csv\n",
    "\n",
    "\n",
    "def main():\n",
    "    with open('employees.csv', newline='') as csvfile:\n",
    "        csv_reader = csv.reader(csvfile)\n",
    "        print(\"Print rows in CSV file that start with employee name 'Jerry'\")\n",
    "        for each_row in csv_reader:\n",
    "            if each_row[0] == \"Jerry\":\n",
    "                print(\",\".join(each_row))\n",
    "\n",
    "\n",
    "if __name__ == \"__main__\":\n",
    "    main()"
   ]
  },
  {
   "cell_type": "code",
   "execution_count": 79,
   "metadata": {},
   "outputs": [],
   "source": [
    "# Program 9.15: Write Python program to write the data given below to a CSV file.\n",
    "# Category,Winner,Film,Year\n",
    "# Best Picture,Doug Mitchell and George Miller,Mad Max: Fury Road,2015\n",
    "# Visual Effects,Richard Stammers,X-Men:Days of Future Past,2014\n",
    "# Best Picture,Martin Scorsese and Leonardo DiCaprio,The Wolf of Wall Street,2013\n",
    "# Music(Original Song),Adele Adkins and Paul Epworth,Skyfall from Skyfall,2012\n",
    "\n",
    "import csv\n",
    "\n",
    "\n",
    "def main():\n",
    "    csv_header_name = ['Category', 'Winner', 'Film', 'Year']\n",
    "    each_row = [['Best Picture', 'Doug Mitchell and George Miller', 'Mad Max: Fury Road', '2015'],\n",
    "                ['Visual Effects', 'Richard Stammers', 'X - Men: Days of Future Past', '2014'],\n",
    "                ['Best Picture', 'Martin Scorsese and Leonardo DiCaprio', 'The Wolf of Wall Street', '2013'],\n",
    "                ['Music(Original Song)', 'Adele Adkins and Paul Epworth', 'Skyfall from Skyfall', '2012']]\n",
    "\n",
    "    with open('oscars.csv', 'w', newline='') as csvfile:\n",
    "        csv_writer = csv.writer(csvfile)\n",
    "        csv_writer.writerow(csv_header_name)\n",
    "        csv_writer.writerows(each_row)\n",
    "\n",
    "\n",
    "if __name__ == \"__main__\":\n",
    "    main()"
   ]
  },
  {
   "cell_type": "code",
   "execution_count": 98,
   "metadata": {},
   "outputs": [
    {
     "ename": "KeyError",
     "evalue": "'Pokemon'",
     "output_type": "error",
     "traceback": [
      "\u001b[1;31m---------------------------------------------------------------------------\u001b[0m",
      "\u001b[1;31mKeyError\u001b[0m                                  Traceback (most recent call last)",
      "\u001b[1;32m<ipython-input-98-6f3b39974251>\u001b[0m in \u001b[0;36m<module>\u001b[1;34m\u001b[0m\n\u001b[0;32m     12\u001b[0m \u001b[1;33m\u001b[0m\u001b[0m\n\u001b[0;32m     13\u001b[0m \u001b[1;32mif\u001b[0m \u001b[0m__name__\u001b[0m \u001b[1;33m==\u001b[0m \u001b[1;34m\"__main__\"\u001b[0m\u001b[1;33m:\u001b[0m\u001b[1;33m\u001b[0m\u001b[1;33m\u001b[0m\u001b[0m\n\u001b[1;32m---> 14\u001b[1;33m     \u001b[0mmain\u001b[0m\u001b[1;33m(\u001b[0m\u001b[1;33m)\u001b[0m\u001b[1;33m\u001b[0m\u001b[1;33m\u001b[0m\u001b[0m\n\u001b[0m",
      "\u001b[1;32m<ipython-input-98-6f3b39974251>\u001b[0m in \u001b[0;36mmain\u001b[1;34m()\u001b[0m\n\u001b[0;32m      9\u001b[0m         \u001b[0mreader\u001b[0m \u001b[1;33m=\u001b[0m \u001b[0mcsv\u001b[0m\u001b[1;33m.\u001b[0m\u001b[0mDictReader\u001b[0m\u001b[1;33m(\u001b[0m\u001b[0mcsvfile\u001b[0m\u001b[1;33m)\u001b[0m\u001b[1;33m\u001b[0m\u001b[1;33m\u001b[0m\u001b[0m\n\u001b[0;32m     10\u001b[0m         \u001b[1;32mfor\u001b[0m \u001b[0mrow\u001b[0m \u001b[1;32min\u001b[0m \u001b[0mreader\u001b[0m\u001b[1;33m:\u001b[0m\u001b[1;33m\u001b[0m\u001b[1;33m\u001b[0m\u001b[0m\n\u001b[1;32m---> 11\u001b[1;33m             \u001b[0mprint\u001b[0m\u001b[1;33m(\u001b[0m\u001b[1;34mf\"{row['Pokemon']}, {row['Type']}\"\u001b[0m\u001b[1;33m)\u001b[0m\u001b[1;33m\u001b[0m\u001b[1;33m\u001b[0m\u001b[0m\n\u001b[0m\u001b[0;32m     12\u001b[0m \u001b[1;33m\u001b[0m\u001b[0m\n\u001b[0;32m     13\u001b[0m \u001b[1;32mif\u001b[0m \u001b[0m__name__\u001b[0m \u001b[1;33m==\u001b[0m \u001b[1;34m\"__main__\"\u001b[0m\u001b[1;33m:\u001b[0m\u001b[1;33m\u001b[0m\u001b[1;33m\u001b[0m\u001b[0m\n",
      "\u001b[1;31mKeyError\u001b[0m: 'Pokemon'"
     ]
    }
   ],
   "source": [
    "# Program 9.16: Write Python Program to Read Data from ''pokemon.csv'' csv\n",
    "# File Using DictReader. Sample Content of ''pokemon.csv'' is Given Below\n",
    "\n",
    "import csv\n",
    "\n",
    "\n",
    "def main():\n",
    "    with open('pokemon.csv', newline='') as csvfile:\n",
    "        reader = csv.DictReader(csvfile)\n",
    "        for row in reader:\n",
    "            print(f\"{row['Pokemon']}, {row['Type']}\")\n",
    "            \n",
    "if __name__ == \"__main__\":\n",
    "    main()"
   ]
  },
  {
   "cell_type": "code",
   "execution_count": null,
   "metadata": {},
   "outputs": [],
   "source": []
  }
 ],
 "metadata": {
  "kernelspec": {
   "display_name": "Python 3",
   "language": "python",
   "name": "python3"
  },
  "language_info": {
   "codemirror_mode": {
    "name": "ipython",
    "version": 3
   },
   "file_extension": ".py",
   "mimetype": "text/x-python",
   "name": "python",
   "nbconvert_exporter": "python",
   "pygments_lexer": "ipython3",
   "version": "3.8.5"
  }
 },
 "nbformat": 4,
 "nbformat_minor": 4
}
