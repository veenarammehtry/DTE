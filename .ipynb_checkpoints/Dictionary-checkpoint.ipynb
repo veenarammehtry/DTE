{
 "cells": [
  {
   "cell_type": "markdown",
   "metadata": {
    "pycharm": {
     "name": "#%% md\n"
    }
   },
   "source": [
    "Creating the Dictionary\n",
    "The syntax for dictionary is:\n",
    "dict_variable = {key:value, key:value}"
   ]
  },
  {
   "cell_type": "markdown",
   "metadata": {
    "pycharm": {
     "name": "#%% md\n"
    }
   },
   "source": [
    "![title](\"images/dictionarysyntax.png\")\n"
   ]
  },
  {
   "cell_type": "code",
   "execution_count": 2,
   "metadata": {
    "pycharm": {
     "name": "#%%\n"
    }
   },
   "outputs": [
    {
     "data": {
      "text/plain": [
       "{'g': 'goldfish',\n",
       " 's': 'shark',\n",
       " 'n': 'needlefish',\n",
       " 'b': 'barramundi',\n",
       " 'm': 'mackerel'}"
      ]
     },
     "execution_count": 2,
     "metadata": {},
     "output_type": "execute_result"
    }
   ],
   "source": [
    "#Example for creating the dictionary\n",
    "fish = {\"g\": \"goldfish\", \"s\":\"shark\", \"n\": \"needlefish\", \"b\":\"barramundi\",\"m\":\"mackerel\"}\n",
    "fish"
   ]
  },
  {
   "cell_type": "markdown",
   "metadata": {
    "pycharm": {
     "name": "#%% md\n"
    }
   },
   "source": [
    "![keyvaluepairs.png](attachment:/images/keyvaluepairs.png)"
   ]
  },
  {
   "cell_type": "code",
   "execution_count": 1,
   "metadata": {},
   "outputs": [
    {
     "name": "stdout",
     "output_type": "stream",
     "text": [
      "Method 1: Building Dictionaries\n",
      "Enter key name\n",
      "Enter val veena\n",
      "Enter key age\n",
      "Enter val 77\n",
      "Dictionary is {'name': 'veena', 'age': '77'}\n",
      "Method 2: Building Dictionaries\n",
      "Enter key name\n",
      "Enter val vijay\n",
      "Enter key age \n",
      "Enter val 00\n",
      "Dictionary is {'name': 'vijay', 'age ': '00'}\n",
      "Method 3: Building Dictionaries\n",
      "Enter key name\n",
      "Enter val Shiva\n",
      "Enter key God\n",
      "Enter val face\n",
      "Dictionary is {'name': 'Shiva', 'God': 'face'}\n"
     ]
    }
   ],
   "source": [
    "# Program 7.1: Program to Dynamically Build User Input as a List\n",
    "\n",
    "def main():\n",
    "    print(\"Method 1: Building Dictionaries\")\n",
    "    build_dictionary = {}\n",
    "    for i in range(0, 2):\n",
    "        dic_key = input(\"Enter key \")\n",
    "        dic_val = input(\"Enter val \")\n",
    "        build_dictionary.update({dic_key: dic_val})\n",
    "    print(f\"Dictionary is {build_dictionary}\")\n",
    "\n",
    "    print(\"Method 2: Building Dictionaries\")\n",
    "    build_dictionary = {}\n",
    "    for i in range(0, 2):\n",
    "        dic_key = input(\"Enter key \")\n",
    "        dic_val = input(\"Enter val \")\n",
    "        build_dictionary[dic_key] = dic_val\n",
    "    print(f\"Dictionary is {build_dictionary}\")\n",
    "\n",
    "    print(\"Method 3: Building Dictionaries\")\n",
    "    build_dictionary = {}\n",
    "    i = 0\n",
    "    while i < 2:\n",
    "        dict_key = input(\"Enter key \")\n",
    "        dict_val = input(\"Enter val \")\n",
    "        build_dictionary.update({dict_key: dict_val})\n",
    "        i = i + 1\n",
    "    print(f\"Dictionary is {build_dictionary}\")\n",
    "\n",
    "\n",
    "if __name__ == \"__main__\":\n",
    "    main()"
   ]
  },
  {
   "cell_type": "code",
   "execution_count": 2,
   "metadata": {},
   "outputs": [
    {
     "name": "stdout",
     "output_type": "stream",
     "text": [
      "List of Countries\n",
      "india\n",
      "usa\n",
      "russia\n",
      "japan\n",
      "germany\n",
      "List of Currencies in different Countries\n",
      "rupee\n",
      "dollar\n",
      "ruble\n",
      "yen\n",
      "euro\n",
      "'india' has currency of type 'rupee'\n",
      "'usa' has currency of type 'dollar'\n",
      "'russia' has currency of type 'ruble'\n",
      "'japan' has currency of type 'yen'\n",
      "'germany' has currency of type 'euro'\n"
     ]
    }
   ],
   "source": [
    "# Program 7.2: Program to Illustrate Traversing of key:value Pairs in Dictionaries\n",
    "# Using for Loop\n",
    "\n",
    "currency = {\"india\": \"rupee\", \"usa\": \"dollar\", \"russia\": \"ruble\", \"japan\": \"yen\", \"germany\": \"euro\"}\n",
    "\n",
    "\n",
    "def main():\n",
    "    print(\"List of Countries\")\n",
    "    for key in currency.keys():\n",
    "        print(key)\n",
    "\n",
    "    print(\"List of Currencies in different Countries\")\n",
    "    for value in currency.values():\n",
    "        print(value)\n",
    "\n",
    "    for key, value in currency.items():\n",
    "        print(f\"'{key}' has currency of type '{value}'\")\n",
    "\n",
    "\n",
    "if __name__ == \"__main__\":\n",
    "    main()"
   ]
  },
  {
   "cell_type": "code",
   "execution_count": 3,
   "metadata": {},
   "outputs": [
    {
     "name": "stdout",
     "output_type": "stream",
     "text": [
      "Enter the key to check for its presence value\n",
      "Key 'value' is not present in dictionary\n",
      "Sum of all the values in the dictionary is\n",
      "7662\n"
     ]
    }
   ],
   "source": [
    "# Program 7.3: Write Python Program to Check for the Presence of a Key in the\n",
    "# Dictionary and to Sum All Its Values\n",
    "\n",
    "historical_events = {\"apollo11\": 1969, \"great_depression\": 1929, \"american_revolution\": 1775, \"berlin_wall\": 1989}\n",
    "\n",
    "\n",
    "def check_key_presence():\n",
    "    key = input(\"Enter the key to check for its presence \")\n",
    "    if key in historical_events.keys():\n",
    "        print(f\"Key '{key}' is present in dictionary\")\n",
    "    else:\n",
    "        print(f\"Key '{key}' is not present in dictionary\")\n",
    "\n",
    "\n",
    "def sum_dictionary_values():\n",
    "    print(\"Sum of all the values in the dictionary is\")\n",
    "    print(f\"{sum(historical_events.values())}\")\n",
    "\n",
    "\n",
    "def main():\n",
    "    check_key_presence()\n",
    "    sum_dictionary_values()\n",
    "\n",
    "\n",
    "if __name__ == \"__main__\":\n",
    "    main()"
   ]
  },
  {
   "cell_type": "code",
   "execution_count": 4,
   "metadata": {},
   "outputs": [
    {
     "name": "stdout",
     "output_type": "stream",
     "text": [
      "Number of times a novel appears in list is\n",
      "{'gone_girl': 2, 'davinci_code': 2, 'games_of_thrones': 1}\n"
     ]
    }
   ],
   "source": [
    "# Program 7.4: Write Python Program to Count the Number of Times an Item\n",
    "# Appears in the List\n",
    "\n",
    "novels = [\"gone_girl\", \"davinci_code\", \"games_of_thrones\", \"gone_girl\", \"davinci_code\"]\n",
    "\n",
    "\n",
    "def main():\n",
    "    count_items = dict()\n",
    "    for book_name in novels:\n",
    "        count_items[book_name] = count_items.get(book_name, 0) + 1\n",
    "\n",
    "    print(\"Number of times a novel appears in list is\")\n",
    "    print(count_items)\n",
    "\n",
    "\n",
    "if __name__ == \"__main__\":\n",
    "    main()"
   ]
  },
  {
   "cell_type": "code",
   "execution_count": 5,
   "metadata": {},
   "outputs": [
    {
     "name": "stdout",
     "output_type": "stream",
     "text": [
      "Enter a sentence This is Veena\n",
      "The number of times each word appears in a sentence is\n",
      "{'This': 1, 'is': 1, 'Veena': 1}\n"
     ]
    }
   ],
   "source": [
    "# Program 7.5: Write Python Program to Count the Number of Times Each Word\n",
    "# Appears in a Sentence\n",
    "\n",
    "\n",
    "def main():\n",
    "    count_words = dict()\n",
    "    sentence = input(\"Enter a sentence \")\n",
    "    words = sentence.split()\n",
    "\n",
    "    for each_word in words:\n",
    "        count_words[each_word] = count_words.get(each_word, 0) + 1\n",
    "    print(\"The number of times each word appears in a sentence is\")\n",
    "    print(count_words)\n",
    "\n",
    "\n",
    "if __name__ == \"__main__\":\n",
    "    main()"
   ]
  },
  {
   "cell_type": "code",
   "execution_count": 6,
   "metadata": {},
   "outputs": [
    {
     "name": "stdout",
     "output_type": "stream",
     "text": [
      "Enter a string Veena\n",
      "V 1\n",
      "a 1\n",
      "e 2\n",
      "n 1\n"
     ]
    }
   ],
   "source": [
    "# Program 7.6: Write Python Program to Count the Number of Characters in a String\n",
    "# Using Dictionaries. Display the Keys and Their Values in Alphabetical Order\n",
    "\n",
    "\n",
    "def construct_character_dict(word):\n",
    "    character_count_dict = dict()\n",
    "    for each_character in word:\n",
    "        character_count_dict[each_character] = character_count_dict.get(each_character, 0) + 1\n",
    "\n",
    "    sorted_list_keys = sorted(character_count_dict.keys())\n",
    "    for each_key in sorted_list_keys:\n",
    "        print(each_key, character_count_dict.get(each_key))\n",
    "\n",
    "\n",
    "def main():\n",
    "    word = input(\"Enter a string \")\n",
    "    construct_character_dict(word)\n",
    "\n",
    "\n",
    "if __name__ == \"__main__\":\n",
    "    main()"
   ]
  },
  {
   "cell_type": "code",
   "execution_count": 8,
   "metadata": {},
   "outputs": [
    {
     "name": "stdout",
     "output_type": "stream",
     "text": [
      "Enter a number 4\n",
      "The generated dictionary of the form (i, i*i) is\n",
      "{1: 1, 2: 4, 3: 9, 4: 16}\n"
     ]
    }
   ],
   "source": [
    "# Program 7.7: Write Python Program to Generate a Dictionary That Contains (i: i*i)\n",
    "# Such that i Is a Number Ranging from 1 to n.\n",
    "\n",
    "\n",
    "def main():\n",
    "    number = int(input(\"Enter a number \"))\n",
    "    create_number_dict = dict()\n",
    "    for i in range(1, number+1):\n",
    "        create_number_dict[i] = i * i\n",
    "    print(\"The generated dictionary of the form (i, i*i) is\")\n",
    "    print(create_number_dict)\n",
    "\n",
    "\n",
    "if __name__ == \"__main__\":\n",
    "    main()"
   ]
  },
  {
   "cell_type": "code",
   "execution_count": 9,
   "metadata": {},
   "outputs": [
    {
     "name": "stdout",
     "output_type": "stream",
     "text": [
      "Enter a sentence Veena\n",
      "The number of digits, lowercase and uppercase letters are\n",
      "{'digits': 0, 'lowercase': 4, 'uppercase': 1}\n"
     ]
    }
   ],
   "source": [
    "# Program 7.8: Write a Program That Accepts a Sentence and Calculate\n",
    "# the Number of Digits, Uppercase and Lowercase Letters\n",
    "\n",
    "\n",
    "def main():\n",
    "    sentence = input(\"Enter a sentence \")\n",
    "    construct_dictionary = {\"digits\": 0, \"lowercase\": 0, \"uppercase\": 0}\n",
    "    for each_character in sentence:\n",
    "        if each_character.isdigit():\n",
    "            construct_dictionary[\"digits\"] += 1\n",
    "        elif each_character.isupper():\n",
    "            construct_dictionary[\"uppercase\"] += 1\n",
    "        elif each_character.islower():\n",
    "            construct_dictionary[\"lowercase\"] += 1\n",
    "    print(\"The number of digits, lowercase and uppercase letters are\")\n",
    "    print(construct_dictionary)\n",
    "\n",
    "\n",
    "if __name__ == \"__main__\":\n",
    "    main()"
   ]
  },
  {
   "cell_type": "code",
   "execution_count": 10,
   "metadata": {},
   "outputs": [
    {
     "name": "stdout",
     "output_type": "stream",
     "text": [
      "Student Name jasmine\n",
      "Registration Number 1AIT18CS05\n",
      "Average of all the subjects is 90.0\n"
     ]
    }
   ],
   "source": [
    "# Program 7.10: Program to Demonstrate Nested Dictionaries\n",
    "\n",
    "student_details = {\"name\": \"jasmine\", \"registration_number\": \"1AIT18CS05\", \"sub_marks\": {\"python\": 95, \"java\": 90, \".net\": 85}}\n",
    "\n",
    "\n",
    "def nested_dictionary():\n",
    "    print(f\"Student Name {student_details['name']}\")\n",
    "    print(f\"Registration Number {student_details['registration_number']}\")\n",
    "    average = sum(student_details[\"sub_marks\"].values()) / len(student_details[\"sub_marks\"])\n",
    "    print(f\"Average of all the subjects is {average}\")\n",
    "\n",
    "\n",
    "def main():\n",
    "    nested_dictionary()\n",
    "\n",
    "\n",
    "if __name__ == \"__main__\":\n",
    "    main()"
   ]
  }
 ],
 "metadata": {
  "kernelspec": {
   "display_name": "Python 3",
   "language": "python",
   "name": "python3"
  },
  "language_info": {
   "codemirror_mode": {
    "name": "ipython",
    "version": 3
   },
   "file_extension": ".py",
   "mimetype": "text/x-python",
   "name": "python",
   "nbconvert_exporter": "python",
   "pygments_lexer": "ipython3",
   "version": "3.8.5"
  }
 },
 "nbformat": 4,
 "nbformat_minor": 4
}
